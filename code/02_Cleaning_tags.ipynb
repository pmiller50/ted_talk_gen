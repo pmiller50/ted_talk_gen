{
 "cells": [
  {
   "cell_type": "markdown",
   "metadata": {},
   "source": [
    "Capstone\n",
    "\n",
    "Scrape this page to get list of TED talk urls.\n",
    "\n",
    "https://www.ted.com/talks?language=en&page=1&sort=newest\n",
    "\n",
    "Another notebook will then import csv file list of urls to scrape the actual transcripts."
   ]
  },
  {
   "cell_type": "code",
   "execution_count": 3,
   "metadata": {},
   "outputs": [],
   "source": [
    "import pandas as pd\n",
    "import matplotlib as plt\n",
    "import seaborn as sns\n",
    "\n",
    "from sklearn.preprocessing import MultiLabelBinarizer"
   ]
  },
  {
   "cell_type": "code",
   "execution_count": 4,
   "metadata": {},
   "outputs": [],
   "source": [
    "# Load list of urls that will contain a url for each TED talk\n",
    "# list_of_talks = pd.read_csv('talk_list.csv')\n",
    "# list_of_talks.head()"
   ]
  },
  {
   "cell_type": "code",
   "execution_count": 5,
   "metadata": {},
   "outputs": [
    {
     "data": {
      "text/html": [
       "<div>\n",
       "<style scoped>\n",
       "    .dataframe tbody tr th:only-of-type {\n",
       "        vertical-align: middle;\n",
       "    }\n",
       "\n",
       "    .dataframe tbody tr th {\n",
       "        vertical-align: top;\n",
       "    }\n",
       "\n",
       "    .dataframe thead th {\n",
       "        text-align: right;\n",
       "    }\n",
       "</style>\n",
       "<table border=\"1\" class=\"dataframe\">\n",
       "  <thead>\n",
       "    <tr style=\"text-align: right;\">\n",
       "      <th></th>\n",
       "      <th>title</th>\n",
       "      <th>speaker</th>\n",
       "      <th>url</th>\n",
       "      <th>month</th>\n",
       "      <th>year</th>\n",
       "      <th>tags</th>\n",
       "      <th>views</th>\n",
       "      <th>transcript</th>\n",
       "    </tr>\n",
       "  </thead>\n",
       "  <tbody>\n",
       "    <tr>\n",
       "      <th>0</th>\n",
       "      <td>Community-powered solutions to the climate crisis</td>\n",
       "      <td>Rahwa Ghirmatzion and Zelalem Adefris</td>\n",
       "      <td>/talks/rahwa_ghirmatzion_and_zelalem_adefris_c...</td>\n",
       "      <td>Feb</td>\n",
       "      <td>2021</td>\n",
       "      <td>climate change,Countdown,activism,community,so...</td>\n",
       "      <td>472,619 views • 4:32</td>\n",
       "      <td>Don Cheadle: Home. It's where we celebrate our...</td>\n",
       "    </tr>\n",
       "    <tr>\n",
       "      <th>1</th>\n",
       "      <td>A simple 2-step plan for saving more money</td>\n",
       "      <td>Wendy De La Rosa</td>\n",
       "      <td>/talks/wendy_de_la_rosa_a_simple_2_step_plan_f...</td>\n",
       "      <td>Feb</td>\n",
       "      <td>2021</td>\n",
       "      <td>goal-setting,finance,self,money</td>\n",
       "      <td>0 views • 2:41</td>\n",
       "      <td>Everyone's heard of the tired old adage of pay...</td>\n",
       "    </tr>\n",
       "    <tr>\n",
       "      <th>2</th>\n",
       "      <td>What causes dandruff, and how do you get rid o...</td>\n",
       "      <td>Thomas L. Dawson</td>\n",
       "      <td>/talks/thomas_l_dawson_what_causes_dandruff_an...</td>\n",
       "      <td>Feb</td>\n",
       "      <td>2021</td>\n",
       "      <td>TED-Ed,education,human body,animation,science,...</td>\n",
       "      <td>0 views • 4:51</td>\n",
       "      <td>Here in this abundant forest, Malassezia is eq...</td>\n",
       "    </tr>\n",
       "    <tr>\n",
       "      <th>3</th>\n",
       "      <td>The artist who won a Nobel Prize... in medicine</td>\n",
       "      <td>Melanie E. Peffer</td>\n",
       "      <td>/talks/melanie_e_peffer_the_artist_who_won_a_n...</td>\n",
       "      <td>Feb</td>\n",
       "      <td>2021</td>\n",
       "      <td>animation,education,TED-Ed,history,science,bra...</td>\n",
       "      <td>92,822 views • 4:49</td>\n",
       "      <td>In the late 1860s, scientists believed they we...</td>\n",
       "    </tr>\n",
       "    <tr>\n",
       "      <th>4</th>\n",
       "      <td>A concrete idea to reduce carbon emissions</td>\n",
       "      <td>Karen Scrivener</td>\n",
       "      <td>/talks/karen_scrivener_a_concrete_idea_to_redu...</td>\n",
       "      <td>Feb</td>\n",
       "      <td>2021</td>\n",
       "      <td>Countdown,materials,climate change,innovation,...</td>\n",
       "      <td>605,375 views • 4:26</td>\n",
       "      <td>Concrete is the second most used substance on ...</td>\n",
       "    </tr>\n",
       "  </tbody>\n",
       "</table>\n",
       "</div>"
      ],
      "text/plain": [
       "                                               title  \\\n",
       "0  Community-powered solutions to the climate crisis   \n",
       "1         A simple 2-step plan for saving more money   \n",
       "2  What causes dandruff, and how do you get rid o...   \n",
       "3    The artist who won a Nobel Prize... in medicine   \n",
       "4         A concrete idea to reduce carbon emissions   \n",
       "\n",
       "                                 speaker  \\\n",
       "0  Rahwa Ghirmatzion and Zelalem Adefris   \n",
       "1                       Wendy De La Rosa   \n",
       "2                       Thomas L. Dawson   \n",
       "3                      Melanie E. Peffer   \n",
       "4                        Karen Scrivener   \n",
       "\n",
       "                                                 url month  year  \\\n",
       "0  /talks/rahwa_ghirmatzion_and_zelalem_adefris_c...   Feb  2021   \n",
       "1  /talks/wendy_de_la_rosa_a_simple_2_step_plan_f...   Feb  2021   \n",
       "2  /talks/thomas_l_dawson_what_causes_dandruff_an...   Feb  2021   \n",
       "3  /talks/melanie_e_peffer_the_artist_who_won_a_n...   Feb  2021   \n",
       "4  /talks/karen_scrivener_a_concrete_idea_to_redu...   Feb  2021   \n",
       "\n",
       "                                                tags                 views  \\\n",
       "0  climate change,Countdown,activism,community,so...  472,619 views • 4:32   \n",
       "1                    goal-setting,finance,self,money        0 views • 2:41   \n",
       "2  TED-Ed,education,human body,animation,science,...        0 views • 4:51   \n",
       "3  animation,education,TED-Ed,history,science,bra...   92,822 views • 4:49   \n",
       "4  Countdown,materials,climate change,innovation,...  605,375 views • 4:26   \n",
       "\n",
       "                                          transcript  \n",
       "0  Don Cheadle: Home. It's where we celebrate our...  \n",
       "1  Everyone's heard of the tired old adage of pay...  \n",
       "2  Here in this abundant forest, Malassezia is eq...  \n",
       "3  In the late 1860s, scientists believed they we...  \n",
       "4  Concrete is the second most used substance on ...  "
      ]
     },
     "execution_count": 5,
     "metadata": {},
     "output_type": "execute_result"
    }
   ],
   "source": [
    "# Load transcripts file \n",
    "transcripts = pd.read_csv('transcripts.csv')\n",
    "transcripts.head()"
   ]
  },
  {
   "cell_type": "code",
   "execution_count": 6,
   "metadata": {},
   "outputs": [
    {
     "data": {
      "text/plain": [
       "(4384, 8)"
      ]
     },
     "execution_count": 6,
     "metadata": {},
     "output_type": "execute_result"
    }
   ],
   "source": [
    "transcripts.shape"
   ]
  },
  {
   "cell_type": "code",
   "execution_count": 7,
   "metadata": {},
   "outputs": [
    {
     "data": {
      "text/plain": [
       "4250"
      ]
     },
     "execution_count": 7,
     "metadata": {},
     "output_type": "execute_result"
    }
   ],
   "source": [
    "transcripts['tags'].nunique()"
   ]
  },
  {
   "cell_type": "code",
   "execution_count": 8,
   "metadata": {},
   "outputs": [],
   "source": [
    "#replace nan with empty string\n",
    "transcripts['tags'] = ['' if pd.isna(tag) else tag for tag in transcripts['tags'] ]"
   ]
  },
  {
   "cell_type": "code",
   "execution_count": 9,
   "metadata": {},
   "outputs": [],
   "source": [
    "transcripts['tags'] = [tag.split(',') for tag in transcripts['tags']]"
   ]
  },
  {
   "cell_type": "code",
   "execution_count": 10,
   "metadata": {},
   "outputs": [
    {
     "data": {
      "text/plain": [
       "title         Why giving away our wealth has been the most s...\n",
       "speaker                                  Bill and Melinda Gates\n",
       "url           /talks/bill_and_melinda_gates_why_giving_away_...\n",
       "month                                                       Apr\n",
       "year                                                       2014\n",
       "tags                  [activism, business, money, philanthropy]\n",
       "views                                   4,906,975 views • 25:00\n",
       "transcript    Chris Anderson: So, this is an interview with ...\n",
       "Name: 2600, dtype: object"
      ]
     },
     "execution_count": 10,
     "metadata": {},
     "output_type": "execute_result"
    }
   ],
   "source": [
    "transcripts.iloc[2600]"
   ]
  },
  {
   "cell_type": "code",
   "execution_count": 11,
   "metadata": {},
   "outputs": [
    {
     "data": {
      "text/plain": [
       "title           0\n",
       "speaker         0\n",
       "url             0\n",
       "month           0\n",
       "year            0\n",
       "tags            0\n",
       "views         103\n",
       "transcript    103\n",
       "dtype: int64"
      ]
     },
     "execution_count": 11,
     "metadata": {},
     "output_type": "execute_result"
    }
   ],
   "source": [
    "transcripts.isnull().sum()"
   ]
  },
  {
   "cell_type": "code",
   "execution_count": 12,
   "metadata": {},
   "outputs": [
    {
     "data": {
      "text/html": [
       "<div>\n",
       "<style scoped>\n",
       "    .dataframe tbody tr th:only-of-type {\n",
       "        vertical-align: middle;\n",
       "    }\n",
       "\n",
       "    .dataframe tbody tr th {\n",
       "        vertical-align: top;\n",
       "    }\n",
       "\n",
       "    .dataframe thead th {\n",
       "        text-align: right;\n",
       "    }\n",
       "</style>\n",
       "<table border=\"1\" class=\"dataframe\">\n",
       "  <thead>\n",
       "    <tr style=\"text-align: right;\">\n",
       "      <th></th>\n",
       "      <th>title</th>\n",
       "      <th>speaker</th>\n",
       "      <th>url</th>\n",
       "      <th>month</th>\n",
       "      <th>year</th>\n",
       "      <th>tags</th>\n",
       "      <th>views</th>\n",
       "      <th>transcript</th>\n",
       "    </tr>\n",
       "  </thead>\n",
       "  <tbody>\n",
       "    <tr>\n",
       "      <th>628</th>\n",
       "      <td>An app that helps incarcerated people stay con...</td>\n",
       "      <td>Marcus Bullock</td>\n",
       "      <td>/talks/marcus_bullock_an_app_that_helps_incarc...</td>\n",
       "      <td>Oct</td>\n",
       "      <td>2019</td>\n",
       "      <td>[]</td>\n",
       "      <td>NaN</td>\n",
       "      <td>NaN</td>\n",
       "    </tr>\n",
       "    <tr>\n",
       "      <th>632</th>\n",
       "      <td>Revelations from a lifetime of dance</td>\n",
       "      <td>Judith Jamison and members of the Alvin Ailey ...</td>\n",
       "      <td>/talks/judith_jamison_and_members_of_the_alvin...</td>\n",
       "      <td>Oct</td>\n",
       "      <td>2019</td>\n",
       "      <td>[]</td>\n",
       "      <td>NaN</td>\n",
       "      <td>NaN</td>\n",
       "    </tr>\n",
       "    <tr>\n",
       "      <th>643</th>\n",
       "      <td>Reducing corruption takes a specific kind of i...</td>\n",
       "      <td>Efosa Ojomo</td>\n",
       "      <td>/talks/efosa_ojomo_reducing_corruption_takes_a...</td>\n",
       "      <td>Oct</td>\n",
       "      <td>2019</td>\n",
       "      <td>[]</td>\n",
       "      <td>NaN</td>\n",
       "      <td>NaN</td>\n",
       "    </tr>\n",
       "    <tr>\n",
       "      <th>664</th>\n",
       "      <td>We need to track the world's water like we tra...</td>\n",
       "      <td>Sonaar Luthra</td>\n",
       "      <td>/talks/sonaar_luthra_we_need_to_track_the_worl...</td>\n",
       "      <td>Sep</td>\n",
       "      <td>2019</td>\n",
       "      <td>[]</td>\n",
       "      <td>NaN</td>\n",
       "      <td>NaN</td>\n",
       "    </tr>\n",
       "    <tr>\n",
       "      <th>735</th>\n",
       "      <td>Ancient Rome's most notorious doctor</td>\n",
       "      <td>Ramon Glazov</td>\n",
       "      <td>/talks/ramon_glazov_ancient_rome_s_most_notori...</td>\n",
       "      <td>Jul</td>\n",
       "      <td>2019</td>\n",
       "      <td>[]</td>\n",
       "      <td>NaN</td>\n",
       "      <td>NaN</td>\n",
       "    </tr>\n",
       "  </tbody>\n",
       "</table>\n",
       "</div>"
      ],
      "text/plain": [
       "                                                 title  \\\n",
       "628  An app that helps incarcerated people stay con...   \n",
       "632               Revelations from a lifetime of dance   \n",
       "643  Reducing corruption takes a specific kind of i...   \n",
       "664  We need to track the world's water like we tra...   \n",
       "735               Ancient Rome's most notorious doctor   \n",
       "\n",
       "                                               speaker  \\\n",
       "628                                     Marcus Bullock   \n",
       "632  Judith Jamison and members of the Alvin Ailey ...   \n",
       "643                                        Efosa Ojomo   \n",
       "664                                      Sonaar Luthra   \n",
       "735                                       Ramon Glazov   \n",
       "\n",
       "                                                   url month  year tags views  \\\n",
       "628  /talks/marcus_bullock_an_app_that_helps_incarc...   Oct  2019   []   NaN   \n",
       "632  /talks/judith_jamison_and_members_of_the_alvin...   Oct  2019   []   NaN   \n",
       "643  /talks/efosa_ojomo_reducing_corruption_takes_a...   Oct  2019   []   NaN   \n",
       "664  /talks/sonaar_luthra_we_need_to_track_the_worl...   Sep  2019   []   NaN   \n",
       "735  /talks/ramon_glazov_ancient_rome_s_most_notori...   Jul  2019   []   NaN   \n",
       "\n",
       "    transcript  \n",
       "628        NaN  \n",
       "632        NaN  \n",
       "643        NaN  \n",
       "664        NaN  \n",
       "735        NaN  "
      ]
     },
     "execution_count": 12,
     "metadata": {},
     "output_type": "execute_result"
    }
   ],
   "source": [
    "transcripts[transcripts['tags'].map(len) == 1].head()"
   ]
  },
  {
   "cell_type": "markdown",
   "metadata": {},
   "source": [
    "After scraping 4,384 TED talks, 109 of them were unable to download the transcript. It looks like the html syntax might be slightly different. Talks with empty transcripts account for about 2% of the dataset, so just drop instead of trying to debug."
   ]
  },
  {
   "cell_type": "code",
   "execution_count": 13,
   "metadata": {},
   "outputs": [
    {
     "data": {
      "text/plain": [
       "109"
      ]
     },
     "execution_count": 13,
     "metadata": {},
     "output_type": "execute_result"
    }
   ],
   "source": [
    "transcripts[transcripts['tags'].map(len) == 1].shape[0]"
   ]
  },
  {
   "cell_type": "code",
   "execution_count": 14,
   "metadata": {},
   "outputs": [],
   "source": [
    "transcripts = transcripts[transcripts['tags'].map(len) > 1]"
   ]
  },
  {
   "cell_type": "code",
   "execution_count": 15,
   "metadata": {},
   "outputs": [
    {
     "data": {
      "text/plain": [
       "title         0\n",
       "speaker       0\n",
       "url           0\n",
       "month         0\n",
       "year          0\n",
       "tags          0\n",
       "views         0\n",
       "transcript    0\n",
       "dtype: int64"
      ]
     },
     "execution_count": 15,
     "metadata": {},
     "output_type": "execute_result"
    }
   ],
   "source": [
    "transcripts.isnull().sum()"
   ]
  },
  {
   "cell_type": "markdown",
   "metadata": {},
   "source": [
    "---\n",
    "After removing null rows and converting all **tags** column to a list of tags, create dummy columns so we can count for some analysis on which tags are most popular, etc."
   ]
  },
  {
   "cell_type": "code",
   "execution_count": 16,
   "metadata": {},
   "outputs": [
    {
     "data": {
      "text/plain": [
       "array([[0, 0, 0, ..., 0, 0, 0],\n",
       "       [0, 0, 0, ..., 0, 0, 0],\n",
       "       [0, 0, 0, ..., 0, 0, 0],\n",
       "       ...,\n",
       "       [0, 0, 0, ..., 0, 0, 0],\n",
       "       [0, 0, 0, ..., 0, 0, 0],\n",
       "       [0, 0, 0, ..., 0, 0, 0]])"
      ]
     },
     "execution_count": 16,
     "metadata": {},
     "output_type": "execute_result"
    }
   ],
   "source": [
    "mlb = MultiLabelBinarizer()\n",
    "mlb.fit_transform(transcripts['tags'])"
   ]
  },
  {
   "cell_type": "code",
   "execution_count": 17,
   "metadata": {},
   "outputs": [
    {
     "name": "stdout",
     "output_type": "stream",
     "text": [
      "There are 459 unique tags (categories) associated with the TED talks. \n"
     ]
    }
   ],
   "source": [
    "print (f'There are {len(mlb.classes_)} unique tags (categories) associated with the TED talks. ')"
   ]
  },
  {
   "cell_type": "markdown",
   "metadata": {},
   "source": [
    "A sampling of the talk tags look like this:"
   ]
  },
  {
   "cell_type": "code",
   "execution_count": 18,
   "metadata": {},
   "outputs": [
    {
     "data": {
      "text/plain": [
       "['3D printing',\n",
       " 'AI',\n",
       " 'AIDS',\n",
       " 'Africa',\n",
       " \"Alzheimer's\",\n",
       " 'Antarctica',\n",
       " 'Anthropocene',\n",
       " 'Asia',\n",
       " 'Audacious Project',\n",
       " 'Autism spectrum disorder']"
      ]
     },
     "execution_count": 18,
     "metadata": {},
     "output_type": "execute_result"
    }
   ],
   "source": [
    "list(mlb.classes_)[0:10]"
   ]
  },
  {
   "cell_type": "code",
   "execution_count": 19,
   "metadata": {},
   "outputs": [
    {
     "data": {
      "text/html": [
       "<div>\n",
       "<style scoped>\n",
       "    .dataframe tbody tr th:only-of-type {\n",
       "        vertical-align: middle;\n",
       "    }\n",
       "\n",
       "    .dataframe tbody tr th {\n",
       "        vertical-align: top;\n",
       "    }\n",
       "\n",
       "    .dataframe thead th {\n",
       "        text-align: right;\n",
       "    }\n",
       "</style>\n",
       "<table border=\"1\" class=\"dataframe\">\n",
       "  <thead>\n",
       "    <tr style=\"text-align: right;\">\n",
       "      <th></th>\n",
       "      <th>3D printing</th>\n",
       "      <th>AI</th>\n",
       "      <th>AIDS</th>\n",
       "      <th>Africa</th>\n",
       "      <th>Alzheimer's</th>\n",
       "      <th>Antarctica</th>\n",
       "      <th>Anthropocene</th>\n",
       "      <th>Asia</th>\n",
       "      <th>Audacious Project</th>\n",
       "      <th>Autism spectrum disorder</th>\n",
       "      <th>...</th>\n",
       "      <th>wikipedia</th>\n",
       "      <th>wind energy</th>\n",
       "      <th>women</th>\n",
       "      <th>women in business</th>\n",
       "      <th>work</th>\n",
       "      <th>work-life balance</th>\n",
       "      <th>world cultures</th>\n",
       "      <th>writing</th>\n",
       "      <th>wunderkind</th>\n",
       "      <th>youth</th>\n",
       "    </tr>\n",
       "  </thead>\n",
       "  <tbody>\n",
       "    <tr>\n",
       "      <th>0</th>\n",
       "      <td>0</td>\n",
       "      <td>0</td>\n",
       "      <td>0</td>\n",
       "      <td>0</td>\n",
       "      <td>0</td>\n",
       "      <td>0</td>\n",
       "      <td>0</td>\n",
       "      <td>0</td>\n",
       "      <td>0</td>\n",
       "      <td>0</td>\n",
       "      <td>...</td>\n",
       "      <td>0</td>\n",
       "      <td>0</td>\n",
       "      <td>0</td>\n",
       "      <td>0</td>\n",
       "      <td>0</td>\n",
       "      <td>0</td>\n",
       "      <td>0</td>\n",
       "      <td>0</td>\n",
       "      <td>0</td>\n",
       "      <td>0</td>\n",
       "    </tr>\n",
       "    <tr>\n",
       "      <th>1</th>\n",
       "      <td>0</td>\n",
       "      <td>0</td>\n",
       "      <td>0</td>\n",
       "      <td>0</td>\n",
       "      <td>0</td>\n",
       "      <td>0</td>\n",
       "      <td>0</td>\n",
       "      <td>0</td>\n",
       "      <td>0</td>\n",
       "      <td>0</td>\n",
       "      <td>...</td>\n",
       "      <td>0</td>\n",
       "      <td>0</td>\n",
       "      <td>0</td>\n",
       "      <td>0</td>\n",
       "      <td>0</td>\n",
       "      <td>0</td>\n",
       "      <td>0</td>\n",
       "      <td>0</td>\n",
       "      <td>0</td>\n",
       "      <td>0</td>\n",
       "    </tr>\n",
       "    <tr>\n",
       "      <th>2</th>\n",
       "      <td>0</td>\n",
       "      <td>0</td>\n",
       "      <td>0</td>\n",
       "      <td>0</td>\n",
       "      <td>0</td>\n",
       "      <td>0</td>\n",
       "      <td>0</td>\n",
       "      <td>0</td>\n",
       "      <td>0</td>\n",
       "      <td>0</td>\n",
       "      <td>...</td>\n",
       "      <td>0</td>\n",
       "      <td>0</td>\n",
       "      <td>0</td>\n",
       "      <td>0</td>\n",
       "      <td>0</td>\n",
       "      <td>0</td>\n",
       "      <td>0</td>\n",
       "      <td>0</td>\n",
       "      <td>0</td>\n",
       "      <td>0</td>\n",
       "    </tr>\n",
       "    <tr>\n",
       "      <th>3</th>\n",
       "      <td>0</td>\n",
       "      <td>0</td>\n",
       "      <td>0</td>\n",
       "      <td>0</td>\n",
       "      <td>0</td>\n",
       "      <td>0</td>\n",
       "      <td>0</td>\n",
       "      <td>0</td>\n",
       "      <td>0</td>\n",
       "      <td>0</td>\n",
       "      <td>...</td>\n",
       "      <td>0</td>\n",
       "      <td>0</td>\n",
       "      <td>0</td>\n",
       "      <td>0</td>\n",
       "      <td>0</td>\n",
       "      <td>0</td>\n",
       "      <td>0</td>\n",
       "      <td>0</td>\n",
       "      <td>0</td>\n",
       "      <td>0</td>\n",
       "    </tr>\n",
       "    <tr>\n",
       "      <th>4</th>\n",
       "      <td>0</td>\n",
       "      <td>0</td>\n",
       "      <td>0</td>\n",
       "      <td>0</td>\n",
       "      <td>0</td>\n",
       "      <td>0</td>\n",
       "      <td>0</td>\n",
       "      <td>0</td>\n",
       "      <td>0</td>\n",
       "      <td>0</td>\n",
       "      <td>...</td>\n",
       "      <td>0</td>\n",
       "      <td>0</td>\n",
       "      <td>0</td>\n",
       "      <td>0</td>\n",
       "      <td>0</td>\n",
       "      <td>0</td>\n",
       "      <td>0</td>\n",
       "      <td>0</td>\n",
       "      <td>0</td>\n",
       "      <td>0</td>\n",
       "    </tr>\n",
       "  </tbody>\n",
       "</table>\n",
       "<p>5 rows × 459 columns</p>\n",
       "</div>"
      ],
      "text/plain": [
       "   3D printing  AI  AIDS  Africa  Alzheimer's  Antarctica  Anthropocene  Asia  \\\n",
       "0            0   0     0       0            0           0             0     0   \n",
       "1            0   0     0       0            0           0             0     0   \n",
       "2            0   0     0       0            0           0             0     0   \n",
       "3            0   0     0       0            0           0             0     0   \n",
       "4            0   0     0       0            0           0             0     0   \n",
       "\n",
       "   Audacious Project  Autism spectrum disorder  ...  wikipedia  wind energy  \\\n",
       "0                  0                         0  ...          0            0   \n",
       "1                  0                         0  ...          0            0   \n",
       "2                  0                         0  ...          0            0   \n",
       "3                  0                         0  ...          0            0   \n",
       "4                  0                         0  ...          0            0   \n",
       "\n",
       "   women  women in business  work  work-life balance  world cultures  writing  \\\n",
       "0      0                  0     0                  0               0        0   \n",
       "1      0                  0     0                  0               0        0   \n",
       "2      0                  0     0                  0               0        0   \n",
       "3      0                  0     0                  0               0        0   \n",
       "4      0                  0     0                  0               0        0   \n",
       "\n",
       "   wunderkind  youth  \n",
       "0           0      0  \n",
       "1           0      0  \n",
       "2           0      0  \n",
       "3           0      0  \n",
       "4           0      0  \n",
       "\n",
       "[5 rows x 459 columns]"
      ]
     },
     "execution_count": 19,
     "metadata": {},
     "output_type": "execute_result"
    }
   ],
   "source": [
    "tags_df = pd.DataFrame(mlb.fit_transform(transcripts['tags']), columns=mlb.classes_)\n",
    "tags_df.head()"
   ]
  },
  {
   "cell_type": "code",
   "execution_count": 20,
   "metadata": {},
   "outputs": [
    {
     "data": {
      "text/html": [
       "<div>\n",
       "<style scoped>\n",
       "    .dataframe tbody tr th:only-of-type {\n",
       "        vertical-align: middle;\n",
       "    }\n",
       "\n",
       "    .dataframe tbody tr th {\n",
       "        vertical-align: top;\n",
       "    }\n",
       "\n",
       "    .dataframe thead th {\n",
       "        text-align: right;\n",
       "    }\n",
       "</style>\n",
       "<table border=\"1\" class=\"dataframe\">\n",
       "  <thead>\n",
       "    <tr style=\"text-align: right;\">\n",
       "      <th></th>\n",
       "      <th>count</th>\n",
       "    </tr>\n",
       "  </thead>\n",
       "  <tbody>\n",
       "    <tr>\n",
       "      <th>3D printing</th>\n",
       "      <td>12</td>\n",
       "    </tr>\n",
       "    <tr>\n",
       "      <th>AI</th>\n",
       "      <td>82</td>\n",
       "    </tr>\n",
       "    <tr>\n",
       "      <th>AIDS</th>\n",
       "      <td>16</td>\n",
       "    </tr>\n",
       "    <tr>\n",
       "      <th>Africa</th>\n",
       "      <td>166</td>\n",
       "    </tr>\n",
       "    <tr>\n",
       "      <th>Alzheimer's</th>\n",
       "      <td>10</td>\n",
       "    </tr>\n",
       "  </tbody>\n",
       "</table>\n",
       "</div>"
      ],
      "text/plain": [
       "             count\n",
       "3D printing     12\n",
       "AI              82\n",
       "AIDS            16\n",
       "Africa         166\n",
       "Alzheimer's     10"
      ]
     },
     "execution_count": 20,
     "metadata": {},
     "output_type": "execute_result"
    }
   ],
   "source": [
    "tags_counts = pd.DataFrame(tags_df.sum(axis=0), columns=['count'])\n",
    "tags_counts.head()"
   ]
  },
  {
   "cell_type": "code",
   "execution_count": 21,
   "metadata": {},
   "outputs": [
    {
     "data": {
      "text/html": [
       "<div>\n",
       "<style scoped>\n",
       "    .dataframe tbody tr th:only-of-type {\n",
       "        vertical-align: middle;\n",
       "    }\n",
       "\n",
       "    .dataframe tbody tr th {\n",
       "        vertical-align: top;\n",
       "    }\n",
       "\n",
       "    .dataframe thead th {\n",
       "        text-align: right;\n",
       "    }\n",
       "</style>\n",
       "<table border=\"1\" class=\"dataframe\">\n",
       "  <thead>\n",
       "    <tr style=\"text-align: right;\">\n",
       "      <th></th>\n",
       "      <th>count</th>\n",
       "    </tr>\n",
       "  </thead>\n",
       "  <tbody>\n",
       "    <tr>\n",
       "      <th>science</th>\n",
       "      <td>1045</td>\n",
       "    </tr>\n",
       "    <tr>\n",
       "      <th>technology</th>\n",
       "      <td>1001</td>\n",
       "    </tr>\n",
       "    <tr>\n",
       "      <th>culture</th>\n",
       "      <td>700</td>\n",
       "    </tr>\n",
       "    <tr>\n",
       "      <th>TED-Ed</th>\n",
       "      <td>687</td>\n",
       "    </tr>\n",
       "    <tr>\n",
       "      <th>animation</th>\n",
       "      <td>616</td>\n",
       "    </tr>\n",
       "    <tr>\n",
       "      <th>TEDx</th>\n",
       "      <td>613</td>\n",
       "    </tr>\n",
       "    <tr>\n",
       "      <th>global issues</th>\n",
       "      <td>579</td>\n",
       "    </tr>\n",
       "    <tr>\n",
       "      <th>society</th>\n",
       "      <td>572</td>\n",
       "    </tr>\n",
       "    <tr>\n",
       "      <th>social change</th>\n",
       "      <td>554</td>\n",
       "    </tr>\n",
       "    <tr>\n",
       "      <th>education</th>\n",
       "      <td>532</td>\n",
       "    </tr>\n",
       "    <tr>\n",
       "      <th>design</th>\n",
       "      <td>518</td>\n",
       "    </tr>\n",
       "    <tr>\n",
       "      <th>health</th>\n",
       "      <td>468</td>\n",
       "    </tr>\n",
       "    <tr>\n",
       "      <th>history</th>\n",
       "      <td>458</td>\n",
       "    </tr>\n",
       "    <tr>\n",
       "      <th>business</th>\n",
       "      <td>455</td>\n",
       "    </tr>\n",
       "    <tr>\n",
       "      <th>humanity</th>\n",
       "      <td>408</td>\n",
       "    </tr>\n",
       "    <tr>\n",
       "      <th>innovation</th>\n",
       "      <td>383</td>\n",
       "    </tr>\n",
       "    <tr>\n",
       "      <th>biology</th>\n",
       "      <td>383</td>\n",
       "    </tr>\n",
       "    <tr>\n",
       "      <th>art</th>\n",
       "      <td>337</td>\n",
       "    </tr>\n",
       "    <tr>\n",
       "      <th>entertainment</th>\n",
       "      <td>337</td>\n",
       "    </tr>\n",
       "    <tr>\n",
       "      <th>communication</th>\n",
       "      <td>335</td>\n",
       "    </tr>\n",
       "  </tbody>\n",
       "</table>\n",
       "</div>"
      ],
      "text/plain": [
       "               count\n",
       "science         1045\n",
       "technology      1001\n",
       "culture          700\n",
       "TED-Ed           687\n",
       "animation        616\n",
       "TEDx             613\n",
       "global issues    579\n",
       "society          572\n",
       "social change    554\n",
       "education        532\n",
       "design           518\n",
       "health           468\n",
       "history          458\n",
       "business         455\n",
       "humanity         408\n",
       "innovation       383\n",
       "biology          383\n",
       "art              337\n",
       "entertainment    337\n",
       "communication    335"
      ]
     },
     "execution_count": 21,
     "metadata": {},
     "output_type": "execute_result"
    }
   ],
   "source": [
    "tags_counts.sort_values(by='count', ascending=False, inplace=True)\n",
    "top_20_tags = tags_counts.head(20)\n",
    "top_20_tags"
   ]
  },
  {
   "cell_type": "code",
   "execution_count": null,
   "metadata": {},
   "outputs": [],
   "source": []
  }
 ],
 "metadata": {
  "kernelspec": {
   "display_name": "Python 3",
   "language": "python",
   "name": "python3"
  },
  "language_info": {
   "codemirror_mode": {
    "name": "ipython",
    "version": 3
   },
   "file_extension": ".py",
   "mimetype": "text/x-python",
   "name": "python",
   "nbconvert_exporter": "python",
   "pygments_lexer": "ipython3",
   "version": "3.8.3"
  }
 },
 "nbformat": 4,
 "nbformat_minor": 4
}
