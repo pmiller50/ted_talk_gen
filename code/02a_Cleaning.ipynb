{
 "cells": [
  {
   "cell_type": "markdown",
   "metadata": {},
   "source": [
    "### Ted Talks Text Generator\n",
    "\n",
    "All talks have been downloaded, and are stored in a csv file called `transcripts.csv`\n",
    "\n",
    "The tags columns contains all tag values in one long string. To analyze, this must be converted to a list, then create dummy columns, one for each tag. The dummy columns can then be summed to show which tags are the most popular in Explorary Data Analysis (EDA)"
   ]
  },
  {
   "cell_type": "code",
   "execution_count": 30,
   "metadata": {},
   "outputs": [],
   "source": [
    "import pandas as pd\n",
    "import matplotlib.pyplot as plt\n",
    "import seaborn as sns\n",
    "import pickle\n",
    "import re\n",
    "from sklearn.preprocessing import MultiLabelBinarizer"
   ]
  },
  {
   "cell_type": "code",
   "execution_count": 31,
   "metadata": {},
   "outputs": [
    {
     "data": {
      "text/html": [
       "<div>\n",
       "<style scoped>\n",
       "    .dataframe tbody tr th:only-of-type {\n",
       "        vertical-align: middle;\n",
       "    }\n",
       "\n",
       "    .dataframe tbody tr th {\n",
       "        vertical-align: top;\n",
       "    }\n",
       "\n",
       "    .dataframe thead th {\n",
       "        text-align: right;\n",
       "    }\n",
       "</style>\n",
       "<table border=\"1\" class=\"dataframe\">\n",
       "  <thead>\n",
       "    <tr style=\"text-align: right;\">\n",
       "      <th></th>\n",
       "      <th>title</th>\n",
       "      <th>speaker</th>\n",
       "      <th>url</th>\n",
       "      <th>month</th>\n",
       "      <th>year</th>\n",
       "      <th>tags</th>\n",
       "      <th>views</th>\n",
       "      <th>transcript</th>\n",
       "    </tr>\n",
       "  </thead>\n",
       "  <tbody>\n",
       "    <tr>\n",
       "      <th>0</th>\n",
       "      <td>Community-powered solutions to the climate crisis</td>\n",
       "      <td>Rahwa Ghirmatzion and Zelalem Adefris</td>\n",
       "      <td>/talks/rahwa_ghirmatzion_and_zelalem_adefris_c...</td>\n",
       "      <td>Feb</td>\n",
       "      <td>2021</td>\n",
       "      <td>climate change,Countdown,activism,community,so...</td>\n",
       "      <td>472,619 views • 4:32</td>\n",
       "      <td>Don Cheadle: Home. It's where we celebrate our...</td>\n",
       "    </tr>\n",
       "    <tr>\n",
       "      <th>1</th>\n",
       "      <td>A simple 2-step plan for saving more money</td>\n",
       "      <td>Wendy De La Rosa</td>\n",
       "      <td>/talks/wendy_de_la_rosa_a_simple_2_step_plan_f...</td>\n",
       "      <td>Feb</td>\n",
       "      <td>2021</td>\n",
       "      <td>goal-setting,finance,self,money</td>\n",
       "      <td>0 views • 2:41</td>\n",
       "      <td>Everyone's heard of the tired old adage of pay...</td>\n",
       "    </tr>\n",
       "    <tr>\n",
       "      <th>2</th>\n",
       "      <td>What causes dandruff, and how do you get rid o...</td>\n",
       "      <td>Thomas L. Dawson</td>\n",
       "      <td>/talks/thomas_l_dawson_what_causes_dandruff_an...</td>\n",
       "      <td>Feb</td>\n",
       "      <td>2021</td>\n",
       "      <td>TED-Ed,education,human body,animation,science,...</td>\n",
       "      <td>0 views • 4:51</td>\n",
       "      <td>Here in this abundant forest, Malassezia is eq...</td>\n",
       "    </tr>\n",
       "  </tbody>\n",
       "</table>\n",
       "</div>"
      ],
      "text/plain": [
       "                                               title  \\\n",
       "0  Community-powered solutions to the climate crisis   \n",
       "1         A simple 2-step plan for saving more money   \n",
       "2  What causes dandruff, and how do you get rid o...   \n",
       "\n",
       "                                 speaker  \\\n",
       "0  Rahwa Ghirmatzion and Zelalem Adefris   \n",
       "1                       Wendy De La Rosa   \n",
       "2                       Thomas L. Dawson   \n",
       "\n",
       "                                                 url month  year  \\\n",
       "0  /talks/rahwa_ghirmatzion_and_zelalem_adefris_c...   Feb  2021   \n",
       "1  /talks/wendy_de_la_rosa_a_simple_2_step_plan_f...   Feb  2021   \n",
       "2  /talks/thomas_l_dawson_what_causes_dandruff_an...   Feb  2021   \n",
       "\n",
       "                                                tags                 views  \\\n",
       "0  climate change,Countdown,activism,community,so...  472,619 views • 4:32   \n",
       "1                    goal-setting,finance,self,money        0 views • 2:41   \n",
       "2  TED-Ed,education,human body,animation,science,...        0 views • 4:51   \n",
       "\n",
       "                                          transcript  \n",
       "0  Don Cheadle: Home. It's where we celebrate our...  \n",
       "1  Everyone's heard of the tired old adage of pay...  \n",
       "2  Here in this abundant forest, Malassezia is eq...  "
      ]
     },
     "execution_count": 31,
     "metadata": {},
     "output_type": "execute_result"
    }
   ],
   "source": [
    "# Load transcripts file \n",
    "transcripts = pd.read_csv('../data/transcripts.csv')\n",
    "transcripts.head(3)"
   ]
  },
  {
   "cell_type": "code",
   "execution_count": 32,
   "metadata": {},
   "outputs": [
    {
     "data": {
      "text/plain": [
       "(4384, 8)"
      ]
     },
     "execution_count": 32,
     "metadata": {},
     "output_type": "execute_result"
    }
   ],
   "source": [
    "transcripts.shape"
   ]
  },
  {
   "cell_type": "code",
   "execution_count": 33,
   "metadata": {},
   "outputs": [],
   "source": [
    "#replace nan with empty string\n",
    "transcripts['tags'] = ['' if pd.isna(tag) else tag for tag in transcripts['tags'] ]"
   ]
  },
  {
   "cell_type": "markdown",
   "metadata": {},
   "source": [
    "Convert each row's tags value from a long string to a list of tags"
   ]
  },
  {
   "cell_type": "code",
   "execution_count": 34,
   "metadata": {},
   "outputs": [],
   "source": [
    "transcripts['tags'] = [tag.split(',') for tag in transcripts['tags']]"
   ]
  },
  {
   "cell_type": "markdown",
   "metadata": {},
   "source": [
    "Spot check one row's tags"
   ]
  },
  {
   "cell_type": "code",
   "execution_count": 35,
   "metadata": {},
   "outputs": [
    {
     "data": {
      "text/plain": [
       "['activism', 'business', 'money', 'philanthropy']"
      ]
     },
     "execution_count": 35,
     "metadata": {},
     "output_type": "execute_result"
    }
   ],
   "source": [
    "transcripts.iloc[2600]['tags']"
   ]
  },
  {
   "cell_type": "code",
   "execution_count": 36,
   "metadata": {},
   "outputs": [
    {
     "data": {
      "text/plain": [
       "title           0\n",
       "speaker         0\n",
       "url             0\n",
       "month           0\n",
       "year            0\n",
       "tags            0\n",
       "views         103\n",
       "transcript    103\n",
       "dtype: int64"
      ]
     },
     "execution_count": 36,
     "metadata": {},
     "output_type": "execute_result"
    }
   ],
   "source": [
    "transcripts.isnull().sum()"
   ]
  },
  {
   "cell_type": "markdown",
   "metadata": {},
   "source": [
    "The scraping functions failed on a few talks, indicated by the tags value was missing. These missing tags were converted from NaN to the empty string."
   ]
  },
  {
   "cell_type": "code",
   "execution_count": 37,
   "metadata": {},
   "outputs": [
    {
     "data": {
      "text/plain": [
       "array([list(['']), list(['']), list(['']), list(['']), list(['']),\n",
       "       list(['']), list(['']), list(['']), list(['']), list([''])],\n",
       "      dtype=object)"
      ]
     },
     "execution_count": 37,
     "metadata": {},
     "output_type": "execute_result"
    }
   ],
   "source": [
    "transcripts[transcripts['tags'].map(len) == 1]['tags'].values[0:10]"
   ]
  },
  {
   "cell_type": "markdown",
   "metadata": {},
   "source": [
    "After scraping 4,384 TED talks, 103 of them were unable to download the transcript. It looks like the html syntax might be slightly different. Talks with empty transcripts account for about 2% of the dataset, so just drop instead of trying to debug.\n",
    "\n",
    "Talks with empty transcripts can be identified by a list containing `''` as it's only value."
   ]
  },
  {
   "cell_type": "code",
   "execution_count": 38,
   "metadata": {},
   "outputs": [
    {
     "data": {
      "text/plain": [
       "(103, 8)"
      ]
     },
     "execution_count": 38,
     "metadata": {},
     "output_type": "execute_result"
    }
   ],
   "source": [
    "transcripts[[item[0] == '' for item in transcripts[transcripts['tags'].map(len) >0]['tags'].values]].shape"
   ]
  },
  {
   "cell_type": "code",
   "execution_count": 39,
   "metadata": {},
   "outputs": [],
   "source": [
    "# Drop rows with a blank tag value\n",
    "transcripts = transcripts[[item[0] != '' for item in transcripts[transcripts['tags'].map(len) >0]['tags'].values]]"
   ]
  },
  {
   "cell_type": "code",
   "execution_count": 40,
   "metadata": {},
   "outputs": [
    {
     "data": {
      "text/plain": [
       "title         0\n",
       "speaker       0\n",
       "url           0\n",
       "month         0\n",
       "year          0\n",
       "tags          0\n",
       "views         0\n",
       "transcript    0\n",
       "dtype: int64"
      ]
     },
     "execution_count": 40,
     "metadata": {},
     "output_type": "execute_result"
    }
   ],
   "source": [
    "transcripts.isnull().sum()"
   ]
  },
  {
   "cell_type": "code",
   "execution_count": 41,
   "metadata": {},
   "outputs": [
    {
     "data": {
      "text/plain": [
       "(4281, 8)"
      ]
     },
     "execution_count": 41,
     "metadata": {},
     "output_type": "execute_result"
    }
   ],
   "source": [
    "transcripts.shape"
   ]
  },
  {
   "cell_type": "markdown",
   "metadata": {},
   "source": [
    "#### Extract run time value from views column"
   ]
  },
  {
   "cell_type": "code",
   "execution_count": 42,
   "metadata": {},
   "outputs": [
    {
     "data": {
      "text/plain": [
       "'1,363,651 views • 6:29'"
      ]
     },
     "execution_count": 42,
     "metadata": {},
     "output_type": "execute_result"
    }
   ],
   "source": [
    "transcripts.iloc[2600]['views']"
   ]
  },
  {
   "cell_type": "code",
   "execution_count": 43,
   "metadata": {},
   "outputs": [],
   "source": [
    "transcripts['run_time'] = [data.split(' ')[-1] for data in transcripts['views']]"
   ]
  },
  {
   "cell_type": "markdown",
   "metadata": {},
   "source": [
    "#### Number of views is the first text that appears in the views column. Extract it out"
   ]
  },
  {
   "cell_type": "code",
   "execution_count": 44,
   "metadata": {},
   "outputs": [],
   "source": [
    "transcripts['views'] = [data.split(' ')[0] for data in transcripts['views']]"
   ]
  },
  {
   "cell_type": "markdown",
   "metadata": {},
   "source": [
    "Then strip out commas and convert to integer"
   ]
  },
  {
   "cell_type": "code",
   "execution_count": 45,
   "metadata": {},
   "outputs": [
    {
     "data": {
      "text/html": [
       "<div>\n",
       "<style scoped>\n",
       "    .dataframe tbody tr th:only-of-type {\n",
       "        vertical-align: middle;\n",
       "    }\n",
       "\n",
       "    .dataframe tbody tr th {\n",
       "        vertical-align: top;\n",
       "    }\n",
       "\n",
       "    .dataframe thead th {\n",
       "        text-align: right;\n",
       "    }\n",
       "</style>\n",
       "<table border=\"1\" class=\"dataframe\">\n",
       "  <thead>\n",
       "    <tr style=\"text-align: right;\">\n",
       "      <th></th>\n",
       "      <th>title</th>\n",
       "      <th>speaker</th>\n",
       "      <th>url</th>\n",
       "      <th>month</th>\n",
       "      <th>year</th>\n",
       "      <th>tags</th>\n",
       "      <th>views</th>\n",
       "      <th>transcript</th>\n",
       "      <th>run_time</th>\n",
       "    </tr>\n",
       "  </thead>\n",
       "  <tbody>\n",
       "    <tr>\n",
       "      <th>0</th>\n",
       "      <td>Community-powered solutions to the climate crisis</td>\n",
       "      <td>Rahwa Ghirmatzion and Zelalem Adefris</td>\n",
       "      <td>/talks/rahwa_ghirmatzion_and_zelalem_adefris_c...</td>\n",
       "      <td>Feb</td>\n",
       "      <td>2021</td>\n",
       "      <td>[climate change, Countdown, activism, communit...</td>\n",
       "      <td>472619</td>\n",
       "      <td>Don Cheadle: Home. It's where we celebrate our...</td>\n",
       "      <td>4:32</td>\n",
       "    </tr>\n",
       "    <tr>\n",
       "      <th>1</th>\n",
       "      <td>A simple 2-step plan for saving more money</td>\n",
       "      <td>Wendy De La Rosa</td>\n",
       "      <td>/talks/wendy_de_la_rosa_a_simple_2_step_plan_f...</td>\n",
       "      <td>Feb</td>\n",
       "      <td>2021</td>\n",
       "      <td>[goal-setting, finance, self, money]</td>\n",
       "      <td>0</td>\n",
       "      <td>Everyone's heard of the tired old adage of pay...</td>\n",
       "      <td>2:41</td>\n",
       "    </tr>\n",
       "    <tr>\n",
       "      <th>2</th>\n",
       "      <td>What causes dandruff, and how do you get rid o...</td>\n",
       "      <td>Thomas L. Dawson</td>\n",
       "      <td>/talks/thomas_l_dawson_what_causes_dandruff_an...</td>\n",
       "      <td>Feb</td>\n",
       "      <td>2021</td>\n",
       "      <td>[TED-Ed, education, human body, animation, sci...</td>\n",
       "      <td>0</td>\n",
       "      <td>Here in this abundant forest, Malassezia is eq...</td>\n",
       "      <td>4:51</td>\n",
       "    </tr>\n",
       "    <tr>\n",
       "      <th>3</th>\n",
       "      <td>The artist who won a Nobel Prize... in medicine</td>\n",
       "      <td>Melanie E. Peffer</td>\n",
       "      <td>/talks/melanie_e_peffer_the_artist_who_won_a_n...</td>\n",
       "      <td>Feb</td>\n",
       "      <td>2021</td>\n",
       "      <td>[animation, education, TED-Ed, history, scienc...</td>\n",
       "      <td>92822</td>\n",
       "      <td>In the late 1860s, scientists believed they we...</td>\n",
       "      <td>4:49</td>\n",
       "    </tr>\n",
       "    <tr>\n",
       "      <th>4</th>\n",
       "      <td>A concrete idea to reduce carbon emissions</td>\n",
       "      <td>Karen Scrivener</td>\n",
       "      <td>/talks/karen_scrivener_a_concrete_idea_to_redu...</td>\n",
       "      <td>Feb</td>\n",
       "      <td>2021</td>\n",
       "      <td>[Countdown, materials, climate change, innovat...</td>\n",
       "      <td>605375</td>\n",
       "      <td>Concrete is the second most used substance on ...</td>\n",
       "      <td>4:26</td>\n",
       "    </tr>\n",
       "  </tbody>\n",
       "</table>\n",
       "</div>"
      ],
      "text/plain": [
       "                                               title  \\\n",
       "0  Community-powered solutions to the climate crisis   \n",
       "1         A simple 2-step plan for saving more money   \n",
       "2  What causes dandruff, and how do you get rid o...   \n",
       "3    The artist who won a Nobel Prize... in medicine   \n",
       "4         A concrete idea to reduce carbon emissions   \n",
       "\n",
       "                                 speaker  \\\n",
       "0  Rahwa Ghirmatzion and Zelalem Adefris   \n",
       "1                       Wendy De La Rosa   \n",
       "2                       Thomas L. Dawson   \n",
       "3                      Melanie E. Peffer   \n",
       "4                        Karen Scrivener   \n",
       "\n",
       "                                                 url month  year  \\\n",
       "0  /talks/rahwa_ghirmatzion_and_zelalem_adefris_c...   Feb  2021   \n",
       "1  /talks/wendy_de_la_rosa_a_simple_2_step_plan_f...   Feb  2021   \n",
       "2  /talks/thomas_l_dawson_what_causes_dandruff_an...   Feb  2021   \n",
       "3  /talks/melanie_e_peffer_the_artist_who_won_a_n...   Feb  2021   \n",
       "4  /talks/karen_scrivener_a_concrete_idea_to_redu...   Feb  2021   \n",
       "\n",
       "                                                tags   views  \\\n",
       "0  [climate change, Countdown, activism, communit...  472619   \n",
       "1               [goal-setting, finance, self, money]       0   \n",
       "2  [TED-Ed, education, human body, animation, sci...       0   \n",
       "3  [animation, education, TED-Ed, history, scienc...   92822   \n",
       "4  [Countdown, materials, climate change, innovat...  605375   \n",
       "\n",
       "                                          transcript run_time  \n",
       "0  Don Cheadle: Home. It's where we celebrate our...     4:32  \n",
       "1  Everyone's heard of the tired old adage of pay...     2:41  \n",
       "2  Here in this abundant forest, Malassezia is eq...     4:51  \n",
       "3  In the late 1860s, scientists believed they we...     4:49  \n",
       "4  Concrete is the second most used substance on ...     4:26  "
      ]
     },
     "execution_count": 45,
     "metadata": {},
     "output_type": "execute_result"
    }
   ],
   "source": [
    "transcripts['views'] = transcripts['views'].str.replace(',', '').astype(int)\n",
    "transcripts.head()"
   ]
  },
  {
   "cell_type": "markdown",
   "metadata": {},
   "source": [
    "Transcripts contain a lot of audience behavior in parenthesis, such as (Applause) or (laughter).\n",
    "\n",
    "Use regular expression to remove any text inside parenthesis"
   ]
  },
  {
   "cell_type": "code",
   "execution_count": 46,
   "metadata": {},
   "outputs": [],
   "source": [
    "transcripts['transcript'] = [re.sub(r\"\\([^()]*\\)\", \"\", talk_text) for talk_text in transcripts['transcript']]\n",
    "\n",
    "# Hat tip to this site for the regular expression\n",
    "#https://www.kite.com/python/answers/how-to-use-regular-expressions-to-remove-text-within-parentheses-in-python"
   ]
  },
  {
   "cell_type": "markdown",
   "metadata": {},
   "source": [
    "Replace anything that is a word followed by a colon. This removes words or names to indicate a person speaking.  \n",
    "\n",
    "For example:\n",
    "> Cecily: Ah, well, I feel rather"
   ]
  },
  {
   "cell_type": "code",
   "execution_count": 47,
   "metadata": {},
   "outputs": [],
   "source": [
    "transcripts['transcript'] = [re.sub(r\"\\w+:\", \"\", talk_text) for talk_text in transcripts['transcript']]"
   ]
  },
  {
   "cell_type": "code",
   "execution_count": 48,
   "metadata": {},
   "outputs": [
    {
     "name": "stdout",
     "output_type": "stream",
     "text": [
      "  Ah, well, I feel rather frightened. I'm so afraid he will look just like everyone else.   He does.  You are my little cousin Cecily, I'm sure.  You are under some grave mistake. I'm not little. In fact, I do believe I'm actually more than usually tall for my age. But I am your cousin Cecily, and you, I see, are also here helping Jo Michael Rezes with their TEDx talk. And you are my cousin Ernest, my wicked cousin Ernest.  Oh! Well, I'm not really wicked at all, cousin Cecily. You mustn't think that I am wicked.  Well, I hope you haven't been leading a double life, pretending to be good and being really wicked all the time. That would be hypocrisy.  Well, of course, I have been rather reckless.  I am glad to hear it.  But the world is good enough for me, cousin Cecily.  Yes, but are you good enough for it?  I'm afraid I am not that. That's why I want you to reform me.  Well, I'm afraid I have no time this afternoon. The TED talk and all.   Well, would you mind my reforming myself this afternoon?  Oh, that's rather quixotic of you, but I think you should try.  Good. I feel better already.  You're looking a little worse.  Well, might I have that pink rose?  Why?  Because you are like a pink rose, cousin Cecily.  Well, I don't think it could be right for you to talk to me like that.  You are the prettiest girl I ever saw.  But — well, I — I —  And, and ahem —  All good looks are a snare and —  Well, it's a snare that every sensible man would like to be caught in, and ... Jo Michael   I'm so sorry, I um — I didn't finish rehearsing. Um, well it's not because I can't walk in heels, I'm actually really good at that, and I can prove it to you, too, but I really am sorry. Hold on. Uh, um. No matter. No matter. Right. Right, introductions. It's a TEDx talk. Right. Hi, there!  Um. My name is Jo Michael Rezes, and I'm a PhD student here in theater and performance studies. And I specialize in the study of queer identities as they maneuver and affect the perceptions of time in the performance of camp. You know camp? Sincerity in irony's clothing? Making the kitsch feel like home? No? The Met Gala theme from 2019 that was thoroughly misunderstood by over 95 percent of its attendees?  No? OK, anyway. I'm also an actor-director and theater educator at large in the greater Boston area. Oh, and where are my manners? The friends I brought with me today are Algernon and Cecily from Oscar Wilde's famously well-known play, \"The Importance of Being Earnest.\" And they'll be back, don't worry. I've only scared them off a bit. And let's be honest, it wouldn't be a TEDx talk without things wrapping up nicely at the end, would it?  You know, I hope that wasn't too awful, though. It was awkward, I know, to watch me fail. To fail at what, exactly, though? To play a man and a woman at the same time? I mean, to play a man and a woman when I'm actually neither? Why does it feel so awkward when we see someone fail at gender, and why do we care? I mean, obviously, me screwing this up was done on purpose. Obviously, I had this all perfectly memorized and rehearsed for today, right? Right?  Well, I'm here today to talk about gender performativity and the ways in which I've used my acting classroom as a space to disrupt the finality of gender performance, to open up a looser space for thinking about gender identity through supportive failure, generous mistakes and honest communication. We all, actors or otherwise, can play with gender in our everyday lives. And I call this \"gender rehearsativity.\" Now, before all of the queer theorists and women's studies degree holders and Judith Butler fanatics in the audience start to tear the half-and-half, hyperbinary costume off of my body, let me first explain where popular culture has already begun to misunderstand gender performativity, before I move into the rehearsativity I hold so dear. Now, as an educator and as a youngish 20-something-year-old trans person, I'm constantly hearing from my 20-something-year-old students, friends and colleagues that gender is \"over\" — that gender is so fluid and carefree and that society, film and television are so inclusive of transgender people, that it's basically over. Now, I don't ascribe to the binary, as a nonbinary person myself. But gender definitely isn't over. Or, at least I don't think it is. And maybe, just maybe, gender is always beginning. This last semester, at roughly 23am, two of my acting students, while embodying delicious caricatures of fraternity brothers — forgive me, I don't remember his or his name — well, they rounded up the class, and these two women in snapbacks and baggy clothing slacked their mouths to reveal lax jaws and lax bro mentalities. And, astounding as it was to watch, these women fluctuated between irony and satire, the uncanny and the ruthlessly so, pain and joy, until ultimately they failed to be the men they were choosing to embody. They simply stopped talking. Silence. A lull hit the class, and time seemed to be sucked clean out of the room. And in this moment of loud stillness, one of the women, still using her frat bro voice though fully out of character, said, nearly in a whisper,  \"Gender is a social construct.\"  I'll  I laughed along with my students that morning, partially at the comedic timing that my student had in her delivery but also at the fact that society has turned gender performativity into gender as social construct. Now, listen to  I think that this idea has come from renowned queer studies scholar Judith Butler, whose seminal work in the performativity of gender has gone on to be a staple in undergraduate classrooms at liberal arts institutions. Now, this SparkNotes version of Butler's work is found in the idea that gender exists in repeated words and actions. And these performatives create and are created by the bodies of real human beings. Now, listen to  \"Moreover, in a 1988 essay, Butler claims that gender is an act which has been rehearsed. In this way, gender through repetition becomes a recognizable script, which requires actors to reproduce it.\" Huh. Much like my attempt at \"The Importance of Being Earnest.\" Ooh, I mean — look at my costume.  Why does this half make me feel manly, masculine, suave,  and this half makes me feel girly, fabulous and feminine? I mean, some of us even forget that gender is there, because it is so well-rehearsed into our bodies. But there's always an ideal of gender that we can never quite achieve. But it's up to us to play with it. Now, I've played with gender throughout my own career as an actor, and in one semester as an undergraduate student, I was cast in two roles  Brad Majors in \"The Rocky Horror Show,\" and Charlotte Ivanovna in \"The Cherry Orchard.\" One man, one woman and one me. I would go from one rehearsal, playing the manly, aggressive Brad, only to be pulled, moments later, into a wig and delicately blended eyeliner as Charlotte, a German governess. The constant push and pull of these identities was not only invaluable to my work as an actor, attempting to span the spectrum of gender in my work, but it also revealed to me that my own queer identities are deeply indebted to embodying the extremes of gender. These characters held important facets of my identities, of my body, my daily pain, of my social interactions, of my memories, and rehearsing these characters allowed me to explore those identities, which has opened up my need as an acting teacher to show the importance of playing with gender in rehearsal. So when I present to you all  Cecily and  Algernon, there are these parts of these two characters that I respect, understand implicitly, oppressions I can relate to, fears I can embody, aggressive tendencies that I try to forget. But there are also plenty of characteristics with which I have no personal experience, nothing I can draw from. And sometimes in a flurry of rehearsal, of reading a script, of creating a character, well ... we make a mistake. Algernon's aggressive flirtation towards Cecily doesn't sit well in my body, or Cecily's calm demeanor as written by Oscar Wilde, just doesn't sit right, and I literally trip up. Now, this TEDx talk is a performance in front of so many people. And it differs quite drastically from my classrooms in that regard. But there is such a recognizable pressure in our daily lives to perform our gender, our selves, on a stage like this. Quite frankly, failure to pass as a man or a woman effectively is still dangerous for transgender and gender nonconforming people. And listen to  according to the 2015 US Transgender Survey, nearly half of respondents voiced that they had been verbally harassed in the past year because of their gender identity or expression. And that number is shown only to increase in communities of color. Many of us now claim to view gender on a spectrum — and that's great — including 60 percent of Generation Z individuals who reported to the Pew Research Center in 2019 that they believe forms with boxes for \"male\" or \"female\" should include more gender options. But in spite of this, there is still latent fear of making gender mistakes in offices, in classrooms, in the eyes of the government, in romantic situations, and for some of us, even in the mirror when we wake up in the morning. But our gender mistakes have the potential for something good. Even in the binary, approaching life on the stage as a man or a woman, we can support each other in experimentation, trips and stumbles, two-hour-long meditations on or five-second costume changes with gender. And failure is a key part of Judith Butler's theory of performativity. But I do believe that for most people, like you all out there, you might hear \"performativity\" and hear \"perform.\" That's to say, performance-ready or if not performance-ready, perhaps performance in general gives you anxiety. Or the stage fright that I have to this very day. What we need to understand is that failing at gender can and should be a positive, generative process. The mistakes we make with gender can only help us grow and better understand the multitudes of gender around us. But we need to make space for these mistakes. We need to hold space for failure. And that's where rehearsativity comes into play. Now, one of the main points I like to make with my acting students when they're last-minute panicking about a monologue or a scene, is that no one is ever actually ready. I mean, we're never actually done rehearsing, we're just put in front of an audience. When I taught a workshop on gender-bending this last summer at Somerville Arts for Youth, I made it quite clear to a group of middle school-aged students that you cannot be a bully and a good actor at the same time. It's impossible. There is something about the act of embodiment that requires empathy to survive. Bullying prohibits the creative process. As these middle schoolers moved about the room, trying on the extremes of binary gender presentation, this dissolved into galumphing, laughter, parodying of stereotypes they see in movies and on television, joy in the failure to understand gender. Even my college students, in \"Introduction to Acting,\" jumped on the opportunity to play with gender when I restricted their time to think. On Halloween last year, I asked my students to come to class in costume and to, well, to throw their hats into the middle of a circle, metaphorically and literally, and the only rule of the game was that they had to go into the center of the circle, take on a hat, pick a character, and then switch. No time to think. And it wasn't until two men in the class noticed no one running to the center of the circle that they jumped into the center, and one became  a British chauvinist,  and the other, a high-pitched, coy British lady. Time stood still. Laughter, mimicry, joy, again, in the failure to understand gender. That's the potential of gender rehearsativity. And I challenge you all to think of your days as mini-rehearsals. Cultivate spaces in your life to explore gender. And allow other people to explore their gender. Fail at gender. I wish I could give you more tangible ways to go out and do this. But gender is funny like that. Gender is an act which has been rehearsed. Some acts more rehearsed than others.  But gender is far from being perfect. And sometimes, just like in rehearsal, when we support each other in times of play, in times of joy and times of pain, we wind up succeeding more than if we hadn't tried or failed at all.  Well, I think that has been a great success. I'm in love with Cecily, and that is everything. But I must see her before I go. Oh, there she is.  Oh, I merely came back to water the roses. I thought we were at a TEDx talk with Jo.  Oh. Well, they've gone to order the dogcart for me.  Oh. Are they going to take you for a nice drive?  They're going to send me away.  Oh. So we have to part.  I'm afraid so. It's a very painful parting.  Well, the absence of old friends one can endure with equanimity. But even a momentary separation from anyone whom they've just met is almost unbearable.  Thank you. \n"
     ]
    }
   ],
   "source": [
    "test = transcripts.iloc[75]['transcript']\n",
    "print(test)"
   ]
  },
  {
   "cell_type": "markdown",
   "metadata": {},
   "source": [
    "Export cleaned data as pickle in order to import to other notebooks. (Exporting to csv will convert the contents of the tags column from a list into a string, which would then have to converted back. Pickling eliminates that hassle.)"
   ]
  },
  {
   "cell_type": "code",
   "execution_count": 50,
   "metadata": {},
   "outputs": [],
   "source": [
    "# save the model to disk\n",
    "pickle.dump(transcripts, open('../data/transcripts_clean.pickle', 'wb'))"
   ]
  },
  {
   "cell_type": "code",
   "execution_count": null,
   "metadata": {},
   "outputs": [],
   "source": []
  }
 ],
 "metadata": {
  "kernelspec": {
   "display_name": "Python 3",
   "language": "python",
   "name": "python3"
  },
  "language_info": {
   "codemirror_mode": {
    "name": "ipython",
    "version": 3
   },
   "file_extension": ".py",
   "mimetype": "text/x-python",
   "name": "python",
   "nbconvert_exporter": "python",
   "pygments_lexer": "ipython3",
   "version": "3.8.3"
  }
 },
 "nbformat": 4,
 "nbformat_minor": 4
}
