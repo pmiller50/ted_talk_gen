{
 "cells": [
  {
   "cell_type": "markdown",
   "metadata": {},
   "source": [
    "### Ted Talks Text Generator\n",
    "\n",
    "All talks have been downloaded, and are stored in a csv file called `transcripts.csv`\n",
    "\n",
    "The tags columns contains all tag values in one long string. To analyze, this must be converted to a list, then create dummy columns, one for each tag. The dummy columns can then be summed to show which tags are the most popular in Explorary Data Analysis (EDA)"
   ]
  },
  {
   "cell_type": "code",
   "execution_count": 119,
   "metadata": {},
   "outputs": [],
   "source": [
    "import pandas as pd\n",
    "import matplotlib.pyplot as plt\n",
    "import seaborn as sns\n",
    "import pickle\n",
    "from sklearn.preprocessing import MultiLabelBinarizer"
   ]
  },
  {
   "cell_type": "code",
   "execution_count": 120,
   "metadata": {},
   "outputs": [
    {
     "data": {
      "text/html": [
       "<div>\n",
       "<style scoped>\n",
       "    .dataframe tbody tr th:only-of-type {\n",
       "        vertical-align: middle;\n",
       "    }\n",
       "\n",
       "    .dataframe tbody tr th {\n",
       "        vertical-align: top;\n",
       "    }\n",
       "\n",
       "    .dataframe thead th {\n",
       "        text-align: right;\n",
       "    }\n",
       "</style>\n",
       "<table border=\"1\" class=\"dataframe\">\n",
       "  <thead>\n",
       "    <tr style=\"text-align: right;\">\n",
       "      <th></th>\n",
       "      <th>title</th>\n",
       "      <th>speaker</th>\n",
       "      <th>url</th>\n",
       "      <th>month</th>\n",
       "      <th>year</th>\n",
       "      <th>tags</th>\n",
       "      <th>views</th>\n",
       "      <th>transcript</th>\n",
       "    </tr>\n",
       "  </thead>\n",
       "  <tbody>\n",
       "    <tr>\n",
       "      <th>0</th>\n",
       "      <td>Community-powered solutions to the climate crisis</td>\n",
       "      <td>Rahwa Ghirmatzion and Zelalem Adefris</td>\n",
       "      <td>/talks/rahwa_ghirmatzion_and_zelalem_adefris_c...</td>\n",
       "      <td>Feb</td>\n",
       "      <td>2021</td>\n",
       "      <td>climate change,Countdown,activism,community,so...</td>\n",
       "      <td>472,619 views • 4:32</td>\n",
       "      <td>Don Cheadle: Home. It's where we celebrate our...</td>\n",
       "    </tr>\n",
       "    <tr>\n",
       "      <th>1</th>\n",
       "      <td>A simple 2-step plan for saving more money</td>\n",
       "      <td>Wendy De La Rosa</td>\n",
       "      <td>/talks/wendy_de_la_rosa_a_simple_2_step_plan_f...</td>\n",
       "      <td>Feb</td>\n",
       "      <td>2021</td>\n",
       "      <td>goal-setting,finance,self,money</td>\n",
       "      <td>0 views • 2:41</td>\n",
       "      <td>Everyone's heard of the tired old adage of pay...</td>\n",
       "    </tr>\n",
       "    <tr>\n",
       "      <th>2</th>\n",
       "      <td>What causes dandruff, and how do you get rid o...</td>\n",
       "      <td>Thomas L. Dawson</td>\n",
       "      <td>/talks/thomas_l_dawson_what_causes_dandruff_an...</td>\n",
       "      <td>Feb</td>\n",
       "      <td>2021</td>\n",
       "      <td>TED-Ed,education,human body,animation,science,...</td>\n",
       "      <td>0 views • 4:51</td>\n",
       "      <td>Here in this abundant forest, Malassezia is eq...</td>\n",
       "    </tr>\n",
       "  </tbody>\n",
       "</table>\n",
       "</div>"
      ],
      "text/plain": [
       "                                               title  \\\n",
       "0  Community-powered solutions to the climate crisis   \n",
       "1         A simple 2-step plan for saving more money   \n",
       "2  What causes dandruff, and how do you get rid o...   \n",
       "\n",
       "                                 speaker  \\\n",
       "0  Rahwa Ghirmatzion and Zelalem Adefris   \n",
       "1                       Wendy De La Rosa   \n",
       "2                       Thomas L. Dawson   \n",
       "\n",
       "                                                 url month  year  \\\n",
       "0  /talks/rahwa_ghirmatzion_and_zelalem_adefris_c...   Feb  2021   \n",
       "1  /talks/wendy_de_la_rosa_a_simple_2_step_plan_f...   Feb  2021   \n",
       "2  /talks/thomas_l_dawson_what_causes_dandruff_an...   Feb  2021   \n",
       "\n",
       "                                                tags                 views  \\\n",
       "0  climate change,Countdown,activism,community,so...  472,619 views • 4:32   \n",
       "1                    goal-setting,finance,self,money        0 views • 2:41   \n",
       "2  TED-Ed,education,human body,animation,science,...        0 views • 4:51   \n",
       "\n",
       "                                          transcript  \n",
       "0  Don Cheadle: Home. It's where we celebrate our...  \n",
       "1  Everyone's heard of the tired old adage of pay...  \n",
       "2  Here in this abundant forest, Malassezia is eq...  "
      ]
     },
     "execution_count": 120,
     "metadata": {},
     "output_type": "execute_result"
    }
   ],
   "source": [
    "# Load transcripts file \n",
    "transcripts = pd.read_csv('../data/transcripts.csv')\n",
    "transcripts.head(3)"
   ]
  },
  {
   "cell_type": "code",
   "execution_count": 121,
   "metadata": {},
   "outputs": [
    {
     "data": {
      "text/plain": [
       "(4384, 8)"
      ]
     },
     "execution_count": 121,
     "metadata": {},
     "output_type": "execute_result"
    }
   ],
   "source": [
    "transcripts.shape"
   ]
  },
  {
   "cell_type": "code",
   "execution_count": 122,
   "metadata": {},
   "outputs": [],
   "source": [
    "#replace nan with empty string\n",
    "transcripts['tags'] = ['' if pd.isna(tag) else tag for tag in transcripts['tags'] ]"
   ]
  },
  {
   "cell_type": "markdown",
   "metadata": {},
   "source": [
    "Convert each row's tags value from a long string to a list of tags"
   ]
  },
  {
   "cell_type": "code",
   "execution_count": 123,
   "metadata": {},
   "outputs": [],
   "source": [
    "transcripts['tags'] = [tag.split(',') for tag in transcripts['tags']]"
   ]
  },
  {
   "cell_type": "markdown",
   "metadata": {},
   "source": [
    "Spot check one row's tags"
   ]
  },
  {
   "cell_type": "code",
   "execution_count": 124,
   "metadata": {},
   "outputs": [
    {
     "data": {
      "text/plain": [
       "['activism', 'business', 'money', 'philanthropy']"
      ]
     },
     "execution_count": 124,
     "metadata": {},
     "output_type": "execute_result"
    }
   ],
   "source": [
    "transcripts.iloc[2600]['tags']"
   ]
  },
  {
   "cell_type": "code",
   "execution_count": 125,
   "metadata": {},
   "outputs": [
    {
     "data": {
      "text/plain": [
       "title           0\n",
       "speaker         0\n",
       "url             0\n",
       "month           0\n",
       "year            0\n",
       "tags            0\n",
       "views         103\n",
       "transcript    103\n",
       "dtype: int64"
      ]
     },
     "execution_count": 125,
     "metadata": {},
     "output_type": "execute_result"
    }
   ],
   "source": [
    "transcripts.isnull().sum()"
   ]
  },
  {
   "cell_type": "markdown",
   "metadata": {},
   "source": [
    "The scraping functions failed on a few talks, indicated by the tags value was missing. These missing tags were converted from NaN to the empty string."
   ]
  },
  {
   "cell_type": "code",
   "execution_count": 126,
   "metadata": {},
   "outputs": [
    {
     "data": {
      "text/plain": [
       "array([list(['']), list(['']), list(['']), list(['']), list(['']),\n",
       "       list(['']), list(['']), list(['']), list(['']), list([''])],\n",
       "      dtype=object)"
      ]
     },
     "execution_count": 126,
     "metadata": {},
     "output_type": "execute_result"
    }
   ],
   "source": [
    "transcripts[transcripts['tags'].map(len) == 1]['tags'].values[0:10]"
   ]
  },
  {
   "cell_type": "markdown",
   "metadata": {},
   "source": [
    "After scraping 4,384 TED talks, 103 of them were unable to download the transcript. It looks like the html syntax might be slightly different. Talks with empty transcripts account for about 2% of the dataset, so just drop instead of trying to debug.\n",
    "\n",
    "Talks with empty transcripts can be identified by a list containing `''` as it's only value."
   ]
  },
  {
   "cell_type": "code",
   "execution_count": 127,
   "metadata": {},
   "outputs": [
    {
     "data": {
      "text/plain": [
       "(103, 8)"
      ]
     },
     "execution_count": 127,
     "metadata": {},
     "output_type": "execute_result"
    }
   ],
   "source": [
    "transcripts[[item[0] == '' for item in transcripts[transcripts['tags'].map(len) >0]['tags'].values]].shape"
   ]
  },
  {
   "cell_type": "code",
   "execution_count": 128,
   "metadata": {},
   "outputs": [],
   "source": [
    "# Drop rows with a blank tag value\n",
    "transcripts = transcripts[[item[0] != '' for item in transcripts[transcripts['tags'].map(len) >0]['tags'].values]]"
   ]
  },
  {
   "cell_type": "code",
   "execution_count": 129,
   "metadata": {},
   "outputs": [
    {
     "data": {
      "text/plain": [
       "title         0\n",
       "speaker       0\n",
       "url           0\n",
       "month         0\n",
       "year          0\n",
       "tags          0\n",
       "views         0\n",
       "transcript    0\n",
       "dtype: int64"
      ]
     },
     "execution_count": 129,
     "metadata": {},
     "output_type": "execute_result"
    }
   ],
   "source": [
    "transcripts.isnull().sum()"
   ]
  },
  {
   "cell_type": "code",
   "execution_count": 130,
   "metadata": {},
   "outputs": [
    {
     "data": {
      "text/plain": [
       "(4281, 8)"
      ]
     },
     "execution_count": 130,
     "metadata": {},
     "output_type": "execute_result"
    }
   ],
   "source": [
    "transcripts.shape"
   ]
  },
  {
   "cell_type": "markdown",
   "metadata": {},
   "source": [
    "#### Extract run time value from views column"
   ]
  },
  {
   "cell_type": "code",
   "execution_count": 131,
   "metadata": {},
   "outputs": [
    {
     "data": {
      "text/plain": [
       "'1,363,651 views • 6:29'"
      ]
     },
     "execution_count": 131,
     "metadata": {},
     "output_type": "execute_result"
    }
   ],
   "source": [
    "transcripts.iloc[2600]['views']"
   ]
  },
  {
   "cell_type": "code",
   "execution_count": 132,
   "metadata": {},
   "outputs": [],
   "source": [
    "transcripts['run_time'] = [data.split(' ')[-1] for data in transcripts['views']]"
   ]
  },
  {
   "cell_type": "markdown",
   "metadata": {},
   "source": [
    "#### Number of views is the first text that appears in the views column. Extract it out"
   ]
  },
  {
   "cell_type": "code",
   "execution_count": 133,
   "metadata": {},
   "outputs": [],
   "source": [
    "transcripts['views'] = [data.split(' ')[0] for data in transcripts['views']]"
   ]
  },
  {
   "cell_type": "markdown",
   "metadata": {},
   "source": [
    "Then strip out commas and convert to integer"
   ]
  },
  {
   "cell_type": "code",
   "execution_count": 134,
   "metadata": {},
   "outputs": [
    {
     "data": {
      "text/html": [
       "<div>\n",
       "<style scoped>\n",
       "    .dataframe tbody tr th:only-of-type {\n",
       "        vertical-align: middle;\n",
       "    }\n",
       "\n",
       "    .dataframe tbody tr th {\n",
       "        vertical-align: top;\n",
       "    }\n",
       "\n",
       "    .dataframe thead th {\n",
       "        text-align: right;\n",
       "    }\n",
       "</style>\n",
       "<table border=\"1\" class=\"dataframe\">\n",
       "  <thead>\n",
       "    <tr style=\"text-align: right;\">\n",
       "      <th></th>\n",
       "      <th>title</th>\n",
       "      <th>speaker</th>\n",
       "      <th>url</th>\n",
       "      <th>month</th>\n",
       "      <th>year</th>\n",
       "      <th>tags</th>\n",
       "      <th>views</th>\n",
       "      <th>transcript</th>\n",
       "      <th>run_time</th>\n",
       "    </tr>\n",
       "  </thead>\n",
       "  <tbody>\n",
       "    <tr>\n",
       "      <th>0</th>\n",
       "      <td>Community-powered solutions to the climate crisis</td>\n",
       "      <td>Rahwa Ghirmatzion and Zelalem Adefris</td>\n",
       "      <td>/talks/rahwa_ghirmatzion_and_zelalem_adefris_c...</td>\n",
       "      <td>Feb</td>\n",
       "      <td>2021</td>\n",
       "      <td>[climate change, Countdown, activism, communit...</td>\n",
       "      <td>472619</td>\n",
       "      <td>Don Cheadle: Home. It's where we celebrate our...</td>\n",
       "      <td>4:32</td>\n",
       "    </tr>\n",
       "    <tr>\n",
       "      <th>1</th>\n",
       "      <td>A simple 2-step plan for saving more money</td>\n",
       "      <td>Wendy De La Rosa</td>\n",
       "      <td>/talks/wendy_de_la_rosa_a_simple_2_step_plan_f...</td>\n",
       "      <td>Feb</td>\n",
       "      <td>2021</td>\n",
       "      <td>[goal-setting, finance, self, money]</td>\n",
       "      <td>0</td>\n",
       "      <td>Everyone's heard of the tired old adage of pay...</td>\n",
       "      <td>2:41</td>\n",
       "    </tr>\n",
       "    <tr>\n",
       "      <th>2</th>\n",
       "      <td>What causes dandruff, and how do you get rid o...</td>\n",
       "      <td>Thomas L. Dawson</td>\n",
       "      <td>/talks/thomas_l_dawson_what_causes_dandruff_an...</td>\n",
       "      <td>Feb</td>\n",
       "      <td>2021</td>\n",
       "      <td>[TED-Ed, education, human body, animation, sci...</td>\n",
       "      <td>0</td>\n",
       "      <td>Here in this abundant forest, Malassezia is eq...</td>\n",
       "      <td>4:51</td>\n",
       "    </tr>\n",
       "    <tr>\n",
       "      <th>3</th>\n",
       "      <td>The artist who won a Nobel Prize... in medicine</td>\n",
       "      <td>Melanie E. Peffer</td>\n",
       "      <td>/talks/melanie_e_peffer_the_artist_who_won_a_n...</td>\n",
       "      <td>Feb</td>\n",
       "      <td>2021</td>\n",
       "      <td>[animation, education, TED-Ed, history, scienc...</td>\n",
       "      <td>92822</td>\n",
       "      <td>In the late 1860s, scientists believed they we...</td>\n",
       "      <td>4:49</td>\n",
       "    </tr>\n",
       "    <tr>\n",
       "      <th>4</th>\n",
       "      <td>A concrete idea to reduce carbon emissions</td>\n",
       "      <td>Karen Scrivener</td>\n",
       "      <td>/talks/karen_scrivener_a_concrete_idea_to_redu...</td>\n",
       "      <td>Feb</td>\n",
       "      <td>2021</td>\n",
       "      <td>[Countdown, materials, climate change, innovat...</td>\n",
       "      <td>605375</td>\n",
       "      <td>Concrete is the second most used substance on ...</td>\n",
       "      <td>4:26</td>\n",
       "    </tr>\n",
       "  </tbody>\n",
       "</table>\n",
       "</div>"
      ],
      "text/plain": [
       "                                               title  \\\n",
       "0  Community-powered solutions to the climate crisis   \n",
       "1         A simple 2-step plan for saving more money   \n",
       "2  What causes dandruff, and how do you get rid o...   \n",
       "3    The artist who won a Nobel Prize... in medicine   \n",
       "4         A concrete idea to reduce carbon emissions   \n",
       "\n",
       "                                 speaker  \\\n",
       "0  Rahwa Ghirmatzion and Zelalem Adefris   \n",
       "1                       Wendy De La Rosa   \n",
       "2                       Thomas L. Dawson   \n",
       "3                      Melanie E. Peffer   \n",
       "4                        Karen Scrivener   \n",
       "\n",
       "                                                 url month  year  \\\n",
       "0  /talks/rahwa_ghirmatzion_and_zelalem_adefris_c...   Feb  2021   \n",
       "1  /talks/wendy_de_la_rosa_a_simple_2_step_plan_f...   Feb  2021   \n",
       "2  /talks/thomas_l_dawson_what_causes_dandruff_an...   Feb  2021   \n",
       "3  /talks/melanie_e_peffer_the_artist_who_won_a_n...   Feb  2021   \n",
       "4  /talks/karen_scrivener_a_concrete_idea_to_redu...   Feb  2021   \n",
       "\n",
       "                                                tags   views  \\\n",
       "0  [climate change, Countdown, activism, communit...  472619   \n",
       "1               [goal-setting, finance, self, money]       0   \n",
       "2  [TED-Ed, education, human body, animation, sci...       0   \n",
       "3  [animation, education, TED-Ed, history, scienc...   92822   \n",
       "4  [Countdown, materials, climate change, innovat...  605375   \n",
       "\n",
       "                                          transcript run_time  \n",
       "0  Don Cheadle: Home. It's where we celebrate our...     4:32  \n",
       "1  Everyone's heard of the tired old adage of pay...     2:41  \n",
       "2  Here in this abundant forest, Malassezia is eq...     4:51  \n",
       "3  In the late 1860s, scientists believed they we...     4:49  \n",
       "4  Concrete is the second most used substance on ...     4:26  "
      ]
     },
     "execution_count": 134,
     "metadata": {},
     "output_type": "execute_result"
    }
   ],
   "source": [
    "transcripts['views'] = transcripts['views'].str.replace(',', '').astype(int)\n",
    "transcripts.head()"
   ]
  },
  {
   "cell_type": "markdown",
   "metadata": {},
   "source": [
    "Export cleaned data as pickle in order to import to other notebooks. (Exporting to csv will convert the contents of the tags column from a list into a string, which would then have to converted back. Pickling eliminates that hassle.)"
   ]
  },
  {
   "cell_type": "code",
   "execution_count": 135,
   "metadata": {},
   "outputs": [],
   "source": [
    "# save the model to disk\n",
    "pickle.dump(transcripts, open('../data/transcripts_clean.pickle', 'wb'))"
   ]
  }
 ],
 "metadata": {
  "kernelspec": {
   "display_name": "Python 3",
   "language": "python",
   "name": "python3"
  },
  "language_info": {
   "codemirror_mode": {
    "name": "ipython",
    "version": 3
   },
   "file_extension": ".py",
   "mimetype": "text/x-python",
   "name": "python",
   "nbconvert_exporter": "python",
   "pygments_lexer": "ipython3",
   "version": "3.8.3"
  }
 },
 "nbformat": 4,
 "nbformat_minor": 4
}
