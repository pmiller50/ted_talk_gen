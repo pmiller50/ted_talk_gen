{
 "cells": [
  {
   "cell_type": "markdown",
   "metadata": {},
   "source": [
    "Capstone\n",
    "\n",
    "Scrape this page to get list of TED talk urls.\n",
    "\n",
    "https://www.ted.com/talks?language=en&page=1&sort=newest\n",
    "\n",
    "Another notebook will then import csv file list of urls to scrape the actual transcripts."
   ]
  },
  {
   "cell_type": "code",
   "execution_count": 8,
   "metadata": {},
   "outputs": [],
   "source": [
    "import pandas as pd\n",
    "from bs4 import BeautifulSoup\n",
    "import requests\n",
    "import time"
   ]
  },
  {
   "cell_type": "code",
   "execution_count": 9,
   "metadata": {},
   "outputs": [],
   "source": [
    "# Page containing a grid of links to TED talks\n",
    "#https://www.ted.com/talks?language=en&page=1&sort=newest\n",
    "\n",
    "base_url = 'https://www.ted.com/talks'\n"
   ]
  },
  {
   "cell_type": "code",
   "execution_count": 10,
   "metadata": {},
   "outputs": [
    {
     "data": {
      "text/plain": [
       "[1, 2]"
      ]
     },
     "execution_count": 10,
     "metadata": {},
     "output_type": "execute_result"
    }
   ],
   "source": [
    "list(range(1, 3))"
   ]
  },
  {
   "cell_type": "markdown",
   "metadata": {},
   "source": [
    "Create a record for each talk containing:\n",
    "* Title\n",
    "* Speaker\n",
    "* URL\n",
    "* Date\n"
   ]
  },
  {
   "cell_type": "code",
   "execution_count": 13,
   "metadata": {},
   "outputs": [
    {
     "name": "stdout",
     "output_type": "stream",
     "text": [
      "Page 1 done.\n",
      "Page 2 done.\n",
      "Page 3 done.\n",
      "Page 4 done.\n",
      "Page 5 done.\n",
      "Page 6 done.\n",
      "Page 7 done.\n",
      "Page 8 done.\n",
      "Page 9 done.\n",
      "Page 10 done.\n",
      "Page 11 done.\n",
      "Page 12 done.\n",
      "Page 13 done.\n",
      "Page 14 done.\n",
      "Page 15 done.\n",
      "Page 16 done.\n",
      "Page 17 done.\n",
      "Page 18 done.\n",
      "Page 19 done.\n",
      "Page 20 done.\n",
      "Page 21 done.\n",
      "Page 22 done.\n",
      "Page 23 done.\n",
      "Page 24 done.\n",
      "Page 25 done.\n",
      "Page 26 done.\n",
      "Get failed. Status Code: 429 Page: 27 \n"
     ]
    }
   ],
   "source": [
    "all_talks = []\n",
    "\n",
    "# There are 122 pages that contain the links and titles to each TED talk.\n",
    "for page_number in range(1, 123) :\n",
    "    \n",
    "    mydict = {'language': 'en', 'page': page_number, 'sort':'newest'}\n",
    "\n",
    "    \n",
    "    resp = requests.get(base_url, params=mydict)\n",
    "    \n",
    "    if resp.status_code != 200:\n",
    "        print(f'Get failed. Status Code: {resp.status_code} Page: {page_number} ')\n",
    "        break\n",
    "    \n",
    "    soup = BeautifulSoup(resp.text, 'html.parser')\n",
    "\n",
    "\n",
    "    # Each talk's information is contained in a <div class=\"media__message\"> tag\n",
    "    for talk_container in soup.find_all('div', class_='media__message') :\n",
    "\n",
    "        speaker_tag = talk_container.find('h4')\n",
    "        speaker = speaker_tag.text\n",
    "        talk_info = speaker_tag.find_next_sibling(\"h4\")\n",
    "\n",
    "        title = talk_info.text\n",
    "        #strip out newline characters\n",
    "        title = title.strip('\\n')\n",
    "\n",
    "        # extract relative url for later scraping\n",
    "        url = talk_info.find('a')['href']\n",
    "\n",
    "        # Every talk has a date in a string format that looks like 'Jan 2021'\n",
    "        talk_date_string = talk_container.find('span', class_='meta__val').text.strip('\\n')\n",
    "\n",
    "        month = talk_date_string.split(' ')[0]  # extract month\n",
    "        year = talk_date_string.split(' ')[1]   # extract year\n",
    "\n",
    "        talk_row = {}\n",
    "        talk_row['title'] = title\n",
    "        talk_row['speaker'] = speaker\n",
    "        talk_row['url'] = url\n",
    "        talk_row['month'] = month\n",
    "        talk_row['year'] = year\n",
    "\n",
    "        all_talks.append(talk_row)\n",
    "\n",
    "    print (f'Page {page_number} done.')\n",
    "\n",
    "    # TED's servers have a 'Retry-After': '5' value, so let's wait 6 seconds in between requests to be on the safe side.\n",
    "    # Wait 6 sec before next request\n",
    "    time.sleep(6)\n",
    "\n",
    "        "
   ]
  },
  {
   "cell_type": "code",
   "execution_count": 15,
   "metadata": {},
   "outputs": [
    {
     "data": {
      "text/plain": [
       "b'\\n<?xml version=\"1.0\" encoding=\"utf-8\"?>\\n<!DOCTYPE html PUBLIC \"-//W3C//DTD XHTML 1.0 Strict//EN\"\\n \"http://www.w3.org/TR/xhtml1/DTD/xhtml1-strict.dtd\">\\n<html>\\n  <head>\\n    <title>429 Rate Limited too many requests.</title>\\n  </head>\\n  <body>\\n    <h1>Error 429 Rate Limited too many requests.</h1>\\n    <p>Rate Limited too many requests.</p>\\n    <h3>Guru Meditation:</h3>\\n    <p>XID: 2430258188</p>\\n    <hr>\\n    <p>Varnish cache server</p>\\n  </body>\\n</html>\\n'"
      ]
     },
     "execution_count": 15,
     "metadata": {},
     "output_type": "execute_result"
    }
   ],
   "source": [
    "resp.content"
   ]
  },
  {
   "cell_type": "code",
   "execution_count": 19,
   "metadata": {},
   "outputs": [
    {
     "data": {
      "text/plain": [
       "{'Connection': 'keep-alive', 'Content-Length': '455', 'Content-Type': 'text/html; charset=utf-8', 'Retry-After': '5', 'Accept-Ranges': 'bytes', 'Age': '0', 'Strict-Transport-Security': 'max-age=31536001', 'Date': 'Thu, 11 Feb 2021 06:57:36 GMT', 'Via': '1.1 varnish', 'X-Served-By': 'cache-bwi5147-BWI, cache-lax10639-LGB', 'X-Cache': 'MISS, MISS', 'X-Cache-Hits': '0, 0', 'Set-Cookie': '_nu=1613026656; Expires=Tue, 10 Feb 2026 06:57:36 GMT; path=/, _abby=VvuVLzliF7ix6C8; Expires=Tue, 10 Feb 2026 06:57:36 GMT; Path=/; Domain=.ted.com, _abby_hero_form=b; Expires=Thu, 25 Feb 2021 06:57:36 GMT; Path=/'}"
      ]
     },
     "execution_count": 19,
     "metadata": {},
     "output_type": "execute_result"
    }
   ],
   "source": [
    "resp.headers"
   ]
  },
  {
   "cell_type": "code",
   "execution_count": 12,
   "metadata": {},
   "outputs": [
    {
     "data": {
      "text/html": [
       "<div>\n",
       "<style scoped>\n",
       "    .dataframe tbody tr th:only-of-type {\n",
       "        vertical-align: middle;\n",
       "    }\n",
       "\n",
       "    .dataframe tbody tr th {\n",
       "        vertical-align: top;\n",
       "    }\n",
       "\n",
       "    .dataframe thead th {\n",
       "        text-align: right;\n",
       "    }\n",
       "</style>\n",
       "<table border=\"1\" class=\"dataframe\">\n",
       "  <thead>\n",
       "    <tr style=\"text-align: right;\">\n",
       "      <th></th>\n",
       "      <th>title</th>\n",
       "      <th>speaker</th>\n",
       "      <th>url</th>\n",
       "      <th>month</th>\n",
       "      <th>year</th>\n",
       "    </tr>\n",
       "  </thead>\n",
       "  <tbody>\n",
       "    <tr>\n",
       "      <th>0</th>\n",
       "      <td>Community-powered solutions to the climate crisis</td>\n",
       "      <td>Rahwa Ghirmatzion and Zelalem Adefris</td>\n",
       "      <td>/talks/rahwa_ghirmatzion_and_zelalem_adefris_c...</td>\n",
       "      <td>Feb</td>\n",
       "      <td>2021</td>\n",
       "    </tr>\n",
       "    <tr>\n",
       "      <th>1</th>\n",
       "      <td>A simple 2-step plan for saving more money</td>\n",
       "      <td>Wendy De La Rosa</td>\n",
       "      <td>/talks/wendy_de_la_rosa_a_simple_2_step_plan_f...</td>\n",
       "      <td>Feb</td>\n",
       "      <td>2021</td>\n",
       "    </tr>\n",
       "    <tr>\n",
       "      <th>2</th>\n",
       "      <td>What causes dandruff, and how do you get rid o...</td>\n",
       "      <td>Thomas L. Dawson</td>\n",
       "      <td>/talks/thomas_l_dawson_what_causes_dandruff_an...</td>\n",
       "      <td>Feb</td>\n",
       "      <td>2021</td>\n",
       "    </tr>\n",
       "    <tr>\n",
       "      <th>3</th>\n",
       "      <td>The artist who won a Nobel Prize... in medicine</td>\n",
       "      <td>Melanie E. Peffer</td>\n",
       "      <td>/talks/melanie_e_peffer_the_artist_who_won_a_n...</td>\n",
       "      <td>Feb</td>\n",
       "      <td>2021</td>\n",
       "    </tr>\n",
       "    <tr>\n",
       "      <th>4</th>\n",
       "      <td>A concrete idea to reduce carbon emissions</td>\n",
       "      <td>Karen Scrivener</td>\n",
       "      <td>/talks/karen_scrivener_a_concrete_idea_to_redu...</td>\n",
       "      <td>Feb</td>\n",
       "      <td>2021</td>\n",
       "    </tr>\n",
       "    <tr>\n",
       "      <th>...</th>\n",
       "      <td>...</td>\n",
       "      <td>...</td>\n",
       "      <td>...</td>\n",
       "      <td>...</td>\n",
       "      <td>...</td>\n",
       "    </tr>\n",
       "    <tr>\n",
       "      <th>67</th>\n",
       "      <td>Why is pneumonia so dangerous?</td>\n",
       "      <td>Eve Gaus and Vanessa Ruiz</td>\n",
       "      <td>/talks/eve_gaus_and_vanessa_ruiz_why_is_pneumo...</td>\n",
       "      <td>Nov</td>\n",
       "      <td>2020</td>\n",
       "    </tr>\n",
       "    <tr>\n",
       "      <th>68</th>\n",
       "      <td>The city planting a million trees in two years</td>\n",
       "      <td>Yvonne Aki-Sawyerr</td>\n",
       "      <td>/talks/yvonne_aki_sawyerr_the_city_planting_a_...</td>\n",
       "      <td>Nov</td>\n",
       "      <td>2020</td>\n",
       "    </tr>\n",
       "    <tr>\n",
       "      <th>69</th>\n",
       "      <td>How to come out at work, about anything</td>\n",
       "      <td>Micah Eames</td>\n",
       "      <td>/talks/micah_eames_how_to_come_out_at_work_abo...</td>\n",
       "      <td>Nov</td>\n",
       "      <td>2020</td>\n",
       "    </tr>\n",
       "    <tr>\n",
       "      <th>70</th>\n",
       "      <td>How reverse mentorship can help create better ...</td>\n",
       "      <td>Patrice Gordon</td>\n",
       "      <td>/talks/patrice_gordon_how_reverse_mentorship_c...</td>\n",
       "      <td>Nov</td>\n",
       "      <td>2020</td>\n",
       "    </tr>\n",
       "    <tr>\n",
       "      <th>71</th>\n",
       "      <td>How COVID-19 human challenge trials work — and...</td>\n",
       "      <td>Sophie Rose</td>\n",
       "      <td>/talks/sophie_rose_how_covid_19_human_challeng...</td>\n",
       "      <td>Nov</td>\n",
       "      <td>2020</td>\n",
       "    </tr>\n",
       "  </tbody>\n",
       "</table>\n",
       "<p>72 rows × 5 columns</p>\n",
       "</div>"
      ],
      "text/plain": [
       "                                                title  \\\n",
       "0   Community-powered solutions to the climate crisis   \n",
       "1          A simple 2-step plan for saving more money   \n",
       "2   What causes dandruff, and how do you get rid o...   \n",
       "3     The artist who won a Nobel Prize... in medicine   \n",
       "4          A concrete idea to reduce carbon emissions   \n",
       "..                                                ...   \n",
       "67                     Why is pneumonia so dangerous?   \n",
       "68     The city planting a million trees in two years   \n",
       "69            How to come out at work, about anything   \n",
       "70  How reverse mentorship can help create better ...   \n",
       "71  How COVID-19 human challenge trials work — and...   \n",
       "\n",
       "                                  speaker  \\\n",
       "0   Rahwa Ghirmatzion and Zelalem Adefris   \n",
       "1                        Wendy De La Rosa   \n",
       "2                        Thomas L. Dawson   \n",
       "3                       Melanie E. Peffer   \n",
       "4                         Karen Scrivener   \n",
       "..                                    ...   \n",
       "67              Eve Gaus and Vanessa Ruiz   \n",
       "68                     Yvonne Aki-Sawyerr   \n",
       "69                            Micah Eames   \n",
       "70                         Patrice Gordon   \n",
       "71                            Sophie Rose   \n",
       "\n",
       "                                                  url month  year  \n",
       "0   /talks/rahwa_ghirmatzion_and_zelalem_adefris_c...   Feb  2021  \n",
       "1   /talks/wendy_de_la_rosa_a_simple_2_step_plan_f...   Feb  2021  \n",
       "2   /talks/thomas_l_dawson_what_causes_dandruff_an...   Feb  2021  \n",
       "3   /talks/melanie_e_peffer_the_artist_who_won_a_n...   Feb  2021  \n",
       "4   /talks/karen_scrivener_a_concrete_idea_to_redu...   Feb  2021  \n",
       "..                                                ...   ...   ...  \n",
       "67  /talks/eve_gaus_and_vanessa_ruiz_why_is_pneumo...   Nov  2020  \n",
       "68  /talks/yvonne_aki_sawyerr_the_city_planting_a_...   Nov  2020  \n",
       "69  /talks/micah_eames_how_to_come_out_at_work_abo...   Nov  2020  \n",
       "70  /talks/patrice_gordon_how_reverse_mentorship_c...   Nov  2020  \n",
       "71  /talks/sophie_rose_how_covid_19_human_challeng...   Nov  2020  \n",
       "\n",
       "[72 rows x 5 columns]"
      ]
     },
     "execution_count": 12,
     "metadata": {},
     "output_type": "execute_result"
    }
   ],
   "source": [
    "talks_df = pd.DataFrame(all_talks)\n",
    "talks_df.head()"
   ]
  },
  {
   "cell_type": "code",
   "execution_count": 20,
   "metadata": {},
   "outputs": [],
   "source": [
    "# Save to csv - this path exists on my Google Colab\n",
    "#talks_df.to_csv('./ted/talk_list.csv', index=False)"
   ]
  },
  {
   "cell_type": "code",
   "execution_count": null,
   "metadata": {},
   "outputs": [],
   "source": []
  }
 ],
 "metadata": {
  "kernelspec": {
   "display_name": "Python 3",
   "language": "python",
   "name": "python3"
  },
  "language_info": {
   "codemirror_mode": {
    "name": "ipython",
    "version": 3
   },
   "file_extension": ".py",
   "mimetype": "text/x-python",
   "name": "python",
   "nbconvert_exporter": "python",
   "pygments_lexer": "ipython3",
   "version": "3.8.3"
  }
 },
 "nbformat": 4,
 "nbformat_minor": 4
}
