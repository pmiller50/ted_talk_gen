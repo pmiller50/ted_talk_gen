{
 "cells": [
  {
   "cell_type": "markdown",
   "metadata": {},
   "source": [
    "Capstone\n",
    "\n",
    "Scrape this page to get list of TED talk urls.\n",
    "\n",
    "https://www.ted.com/talks?language=en&page=1&sort=newest\n",
    "\n",
    "Another notebook will then import csv file list of urls to scrape the actual transcripts."
   ]
  },
  {
   "cell_type": "code",
   "execution_count": 114,
   "metadata": {},
   "outputs": [],
   "source": [
    "import pandas as pd\n",
    "from bs4 import BeautifulSoup\n",
    "import re\n",
    "import requests\n",
    "import time"
   ]
  },
  {
   "cell_type": "code",
   "execution_count": 115,
   "metadata": {},
   "outputs": [
    {
     "data": {
      "text/html": [
       "<div>\n",
       "<style scoped>\n",
       "    .dataframe tbody tr th:only-of-type {\n",
       "        vertical-align: middle;\n",
       "    }\n",
       "\n",
       "    .dataframe tbody tr th {\n",
       "        vertical-align: top;\n",
       "    }\n",
       "\n",
       "    .dataframe thead th {\n",
       "        text-align: right;\n",
       "    }\n",
       "</style>\n",
       "<table border=\"1\" class=\"dataframe\">\n",
       "  <thead>\n",
       "    <tr style=\"text-align: right;\">\n",
       "      <th></th>\n",
       "      <th>title</th>\n",
       "      <th>speaker</th>\n",
       "      <th>url</th>\n",
       "      <th>month</th>\n",
       "      <th>year</th>\n",
       "    </tr>\n",
       "  </thead>\n",
       "  <tbody>\n",
       "    <tr>\n",
       "      <th>0</th>\n",
       "      <td>Community-powered solutions to the climate crisis</td>\n",
       "      <td>Rahwa Ghirmatzion and Zelalem Adefris</td>\n",
       "      <td>/talks/rahwa_ghirmatzion_and_zelalem_adefris_c...</td>\n",
       "      <td>Feb</td>\n",
       "      <td>2021</td>\n",
       "    </tr>\n",
       "    <tr>\n",
       "      <th>1</th>\n",
       "      <td>A simple 2-step plan for saving more money</td>\n",
       "      <td>Wendy De La Rosa</td>\n",
       "      <td>/talks/wendy_de_la_rosa_a_simple_2_step_plan_f...</td>\n",
       "      <td>Feb</td>\n",
       "      <td>2021</td>\n",
       "    </tr>\n",
       "    <tr>\n",
       "      <th>2</th>\n",
       "      <td>What causes dandruff, and how do you get rid o...</td>\n",
       "      <td>Thomas L. Dawson</td>\n",
       "      <td>/talks/thomas_l_dawson_what_causes_dandruff_an...</td>\n",
       "      <td>Feb</td>\n",
       "      <td>2021</td>\n",
       "    </tr>\n",
       "    <tr>\n",
       "      <th>3</th>\n",
       "      <td>The artist who won a Nobel Prize... in medicine</td>\n",
       "      <td>Melanie E. Peffer</td>\n",
       "      <td>/talks/melanie_e_peffer_the_artist_who_won_a_n...</td>\n",
       "      <td>Feb</td>\n",
       "      <td>2021</td>\n",
       "    </tr>\n",
       "    <tr>\n",
       "      <th>4</th>\n",
       "      <td>A concrete idea to reduce carbon emissions</td>\n",
       "      <td>Karen Scrivener</td>\n",
       "      <td>/talks/karen_scrivener_a_concrete_idea_to_redu...</td>\n",
       "      <td>Feb</td>\n",
       "      <td>2021</td>\n",
       "    </tr>\n",
       "  </tbody>\n",
       "</table>\n",
       "</div>"
      ],
      "text/plain": [
       "                                               title  \\\n",
       "0  Community-powered solutions to the climate crisis   \n",
       "1         A simple 2-step plan for saving more money   \n",
       "2  What causes dandruff, and how do you get rid o...   \n",
       "3    The artist who won a Nobel Prize... in medicine   \n",
       "4         A concrete idea to reduce carbon emissions   \n",
       "\n",
       "                                 speaker  \\\n",
       "0  Rahwa Ghirmatzion and Zelalem Adefris   \n",
       "1                       Wendy De La Rosa   \n",
       "2                       Thomas L. Dawson   \n",
       "3                      Melanie E. Peffer   \n",
       "4                        Karen Scrivener   \n",
       "\n",
       "                                                 url month  year  \n",
       "0  /talks/rahwa_ghirmatzion_and_zelalem_adefris_c...   Feb  2021  \n",
       "1  /talks/wendy_de_la_rosa_a_simple_2_step_plan_f...   Feb  2021  \n",
       "2  /talks/thomas_l_dawson_what_causes_dandruff_an...   Feb  2021  \n",
       "3  /talks/melanie_e_peffer_the_artist_who_won_a_n...   Feb  2021  \n",
       "4  /talks/karen_scrivener_a_concrete_idea_to_redu...   Feb  2021  "
      ]
     },
     "execution_count": 115,
     "metadata": {},
     "output_type": "execute_result"
    }
   ],
   "source": [
    "# Load list of urls that will contain a url for each TED talk\n",
    "list_of_talks = pd.read_csv('talk_list.csv')\n",
    "list_of_talks.head()"
   ]
  },
  {
   "cell_type": "code",
   "execution_count": 166,
   "metadata": {},
   "outputs": [
    {
     "data": {
      "text/plain": [
       "(4384, 5)"
      ]
     },
     "execution_count": 166,
     "metadata": {},
     "output_type": "execute_result"
    }
   ],
   "source": [
    "list_of_talks.shape"
   ]
  },
  {
   "cell_type": "code",
   "execution_count": 116,
   "metadata": {},
   "outputs": [
    {
     "data": {
      "text/plain": [
       "4384"
      ]
     },
     "execution_count": 116,
     "metadata": {},
     "output_type": "execute_result"
    }
   ],
   "source": [
    "# Each TED talk transcript is a url in the form of:\n",
    "#https://www.ted.com/talks/rahwa_ghirmatzion_and_zelalem_adefris_community_powered_solutions_to_the_climate_crisis/transcript?language=en\n",
    "\n",
    "base_url = 'https://www.ted.com'\n",
    "\n",
    "list_of_talks.shape[0]"
   ]
  },
  {
   "cell_type": "code",
   "execution_count": 117,
   "metadata": {},
   "outputs": [
    {
     "data": {
      "text/plain": [
       "'/talks/rahwa_ghirmatzion_and_zelalem_adefris_community_powered_solutions_to_the_climate_crisis?language=en'"
      ]
     },
     "execution_count": 117,
     "metadata": {},
     "output_type": "execute_result"
    }
   ],
   "source": [
    "list_of_talks.iloc[row_index]['url'] "
   ]
  },
  {
   "cell_type": "code",
   "execution_count": 118,
   "metadata": {},
   "outputs": [],
   "source": [
    "# Add /transcript to the end of each url but insert it before ?language=en\n",
    "list_of_talks['url'] = list_of_talks['url'].str.replace ('?language', '/transcript?language', regex=False)"
   ]
  },
  {
   "cell_type": "code",
   "execution_count": null,
   "metadata": {},
   "outputs": [],
   "source": []
  },
  {
   "cell_type": "code",
   "execution_count": 165,
   "metadata": {},
   "outputs": [
    {
     "name": "stdout",
     "output_type": "stream",
     "text": [
      "https://www.ted.com/talks/rahwa_ghirmatzion_and_zelalem_adefris_community_powered_solutions_to_the_climate_crisis/transcript?language=en\n",
      "<title>Rahwa Ghirmatzion and Zelalem Adefris: Community-powered solutions to the climate crisis | TED Talk Subtitles and Transcript | TED</title>\n",
      "Don Cheadle: Home. It's where we celebrate our triumphs, make our memories and confront our challenges. And these days there are plenty of those. An historic pandemic, wildfires, floods and hurricanes all threaten our basic safety. These challenges hit even harder in communities that have been cut out of equal opportunities. In the US, unfair and racist housing policies, called redlining, have for decades forced Black, brown, Indigenous and poor white families into areas rife with toxic chemicals that make people sick. They are surrounded by concrete that traps heat. Extreme temperatures demand more cooling, more money, more energy, more carbon. Our problems are interconnected. Imagine all we can do when we realize the solutions are too. At the Solutions Project, we've seen that some of the people most impacted by COVID-19, least likely to have a steady place to call home and most affected by the damage to our climate are already working on effective and scalable solutions. Take Buffalo and Miami, where affordable housing has become a community solution to the climate crisis. Rahwa Ghirmatzion: Buffalo, New York, is the third poorest city in the United States and sixth most segregated, but our people power is strong. Over the last 15 years, my organization, PUSH Buffalo, has been working with residents to build green affordable housing, deploy renewable energy and to grow the resilience and power in our communities. When we saw heating bills soar over the last decade, we organized to pass state policy, help small businesses and to put our people to work weatherizing homes. We responded with eco-landscaping and green infrastructure. When record rainfalls flooded our neighborhoods, we replaced the concrete that overwhelmed and made heat waves unbearable. Let us visit School 77, an 80,000-square-foot public school building that was closed and abandoned for nearly a decade. But PUSH Buffalo and the community transformed it into solar-powered, affordable senior apartments and a community center. This is what the community wanted. When private developers were eyeing that school building for high-end loft apartments, 800 residents mobilized and came up with the plan. We became New York State's first community solar project and during the coronavirus pandemic, a volunteer-run Mutual Aid Hub. Zelalem Adefris: At Catalyst Miami and the Miami Climate Alliance, we work with dozens of other organizations to enact policies that provide safe housing and protect the climate. Here in Miami, we've seen a 400-percent increase in tidal flooding between 2006 and 2016 and have seen 49 additional 90-degree days per year since 1970. We fought for the Miami Forever Bond to fund 400 million dollars for affordable housing and climate solutions. Yet every day, we continue to see luxury high-rise condos being built in our neighborhoods, adding more concrete and heat on the ground. Some of our members are taking matters into their own hands, literally. Conscious Contractors is a Grassroots Collective that formed during Hurricane Irma to protect, rebuild and beautify our communities, all while increasing energy efficiency. They don't think that anyone should have to choose between paying a high AC bill and living in a hot and moldy house that will worsen respiratory illnesses such as asthma or coronavirus. They fix problems at the source. Advocates across the country are holding their governments accountable to climate solutions that keep their communities in place. We need to push for more affordable housing, green infrastructure and flood protections because these are the solutions that solve many problems at once. DC: Climate change is the epic challenge of our lives, but we're confident we can solve it. Community leaders like Rahwa and Zelalem are already doing it. We can create the future we want, but getting there is going to take everyone contributing around the world, wherever we call home.\n"
     ]
    }
   ],
   "source": [
    "#for row_index in list_of_talks.shape[0]:\n",
    "for row_index in range(1):\n",
    "    each_talk_url = list_of_talks.iloc[row_index]['url']\n",
    "    \n",
    "    print (base_url + each_talk_url)\n",
    "\n",
    "    resp = requests.get(base_url + each_talk_url)\n",
    "    \n",
    "    if resp.status_code != 200:\n",
    "        print(f'Get failed. Status Code: {resp.status_code} ')\n",
    "        break\n",
    "    \n",
    "    soup = BeautifulSoup(resp.text, 'html.parser')  # html.parser    \n",
    "    print (soup.title)\n",
    "\n",
    "    #text_block = soup.select('div', class_ = ['d:n', 'f-w:700', 'f:.9', 'f:1@xxl', 'c:white']) \n",
    "    \n",
    "    full_transcript = ''\n",
    "    \n",
    "    for tag in soup.find_all('div'):\n",
    "        \n",
    "        # if tag has all matching attributes of class \n",
    "        if tag.has_attr( \"class\" ):\n",
    "            c = tag['class']\n",
    "            \n",
    "            # this could work for talk views\n",
    "            #if 'f-w:700' in c and 'f:.9' in c and 'f:1@xxl' in c:\n",
    "#                 print (f'Div name: {tag.name} ')\n",
    "#                 print(f\"Class name: {tag['class']}\")\n",
    "#                 print(f'Text:{tag.text[0:200]} END OF TEXT')\n",
    "                \n",
    "                \n",
    "            # Opening paragraph in transcript\n",
    "#             if  'p:2' in c and 'p-t:4@md' in c:\n",
    "#                 print (f'Transcript Open Div name: {tag.name} ')\n",
    "#                 print(f\" Transcript Open Class name: {tag['class']}\")\n",
    "#                 print(f'Transcript Open Text:{tag.text[0:200]} END OF TEXT')\n",
    "                \n",
    "            # every paragraph of main transcript text\n",
    "            if  'Grid__cell' in c and 'flx-s:1' in c and 'p-r:4' in c:\n",
    "#                 print (f'Transcript Div name: {tag.name} ')\n",
    "#                 print(f\" Transcript Class name: {tag['class']}\")\n",
    "#                 print(f'Transcript Text:{tag.text[0:200]} END OF TEXT')\n",
    "                \n",
    "                full_transcript = full_transcript + tag.text\n",
    "    \n",
    "    # Strip out tabs and new line characters\n",
    "    full_transcript = full_transcript.replace('\\n', ' ')\n",
    "    full_transcript = full_transcript.replace('\\t', '')\n",
    "    \n",
    "    \n",
    "    full_transcript = \" \".join(full_transcript.split())\n",
    "    \n",
    "    \n",
    "    print ('Transcript loaded')\n",
    "        \n",
    "        #             Views classes: class=\" d:i-b f-w:700 f:.9 f:1@xxl \"\n",
    "    \n",
    "#     for tag in soup.find_all(re.compile(\"Grid\")):\n",
    "#         print(tag.name)\n",
    "\n",
    "    #for tag in soup.find_all('div'):\n",
    "        \n",
    "\n",
    "  \n",
    "\n"
   ]
  },
  {
   "cell_type": "code",
   "execution_count": 155,
   "metadata": {},
   "outputs": [
    {
     "data": {
      "text/plain": [
       "4996"
      ]
     },
     "execution_count": 155,
     "metadata": {},
     "output_type": "execute_result"
    }
   ],
   "source": [
    "len(full_transcript)"
   ]
  },
  {
   "cell_type": "code",
   "execution_count": null,
   "metadata": {},
   "outputs": [],
   "source": []
  },
  {
   "cell_type": "code",
   "execution_count": 129,
   "metadata": {},
   "outputs": [
    {
     "data": {
      "text/plain": [
       "['shoji']"
      ]
     },
     "execution_count": 129,
     "metadata": {},
     "output_type": "execute_result"
    }
   ],
   "source": [
    "all_divs = soup.find_all('div')\n",
    "all_divs[0]['class']"
   ]
  },
  {
   "cell_type": "code",
   "execution_count": 122,
   "metadata": {},
   "outputs": [
    {
     "data": {
      "text/plain": [
       "[]"
      ]
     },
     "execution_count": 122,
     "metadata": {},
     "output_type": "execute_result"
    }
   ],
   "source": [
    "text_block"
   ]
  },
  {
   "cell_type": "code",
   "execution_count": 110,
   "metadata": {},
   "outputs": [
    {
     "data": {
      "text/plain": [
       "[]"
      ]
     },
     "execution_count": 110,
     "metadata": {},
     "output_type": "execute_result"
    }
   ],
   "source": [
    "all_spans"
   ]
  },
  {
   "cell_type": "code",
   "execution_count": 66,
   "metadata": {},
   "outputs": [
    {
     "data": {
      "text/plain": [
       "[1, 2]"
      ]
     },
     "execution_count": 66,
     "metadata": {},
     "output_type": "execute_result"
    }
   ],
   "source": [
    "list(range(1, 3))"
   ]
  },
  {
   "cell_type": "markdown",
   "metadata": {},
   "source": [
    "Create a record for each talk containing:\n",
    "* Title\n",
    "* Speaker\n",
    "* URL\n",
    "* Date\n"
   ]
  },
  {
   "cell_type": "code",
   "execution_count": 13,
   "metadata": {},
   "outputs": [
    {
     "name": "stdout",
     "output_type": "stream",
     "text": [
      "Page 1 done.\n",
      "Page 2 done.\n",
      "Page 3 done.\n",
      "Page 4 done.\n",
      "Page 5 done.\n",
      "Page 6 done.\n",
      "Page 7 done.\n",
      "Page 8 done.\n",
      "Page 9 done.\n",
      "Page 10 done.\n",
      "Page 11 done.\n",
      "Page 12 done.\n",
      "Page 13 done.\n",
      "Page 14 done.\n",
      "Page 15 done.\n",
      "Page 16 done.\n",
      "Page 17 done.\n",
      "Page 18 done.\n",
      "Page 19 done.\n",
      "Page 20 done.\n",
      "Page 21 done.\n",
      "Page 22 done.\n",
      "Page 23 done.\n",
      "Page 24 done.\n",
      "Page 25 done.\n",
      "Page 26 done.\n",
      "Get failed. Status Code: 429 Page: 27 \n"
     ]
    }
   ],
   "source": [
    "all_talks = []\n",
    "\n",
    "# There are 122 pages that contain the links and titles to each TED talk.\n",
    "for page_number in range(1, 123) :\n",
    "    \n",
    "    mydict = {'language': 'en', 'page': page_number, 'sort':'newest'}\n",
    "\n",
    "    \n",
    "    resp = requests.get(base_url, params=mydict)\n",
    "    \n",
    "    if resp.status_code != 200:\n",
    "        print(f'Get failed. Status Code: {resp.status_code} Page: {page_number} ')\n",
    "        break\n",
    "    \n",
    "    soup = BeautifulSoup(resp.text, 'html.parser')\n",
    "\n",
    "\n",
    "    # Each talk's information is contained in a <div class=\"media__message\"> tag\n",
    "    for talk_container in soup.find_all('div', class_='media__message') :\n",
    "\n",
    "        speaker_tag = talk_container.find('h4')\n",
    "        speaker = speaker_tag.text\n",
    "        talk_info = speaker_tag.find_next_sibling(\"h4\")\n",
    "\n",
    "        title = talk_info.text\n",
    "        #strip out newline characters\n",
    "        title = title.strip('\\n')\n",
    "\n",
    "        # extract relative url for later scraping\n",
    "        url = talk_info.find('a')['href']\n",
    "\n",
    "        # Every talk has a date in a string format that looks like 'Jan 2021'\n",
    "        talk_date_string = talk_container.find('span', class_='meta__val').text.strip('\\n')\n",
    "\n",
    "        month = talk_date_string.split(' ')[0]  # extract month\n",
    "        year = talk_date_string.split(' ')[1]   # extract year\n",
    "\n",
    "        talk_row = {}\n",
    "        talk_row['title'] = title\n",
    "        talk_row['speaker'] = speaker\n",
    "        talk_row['url'] = url\n",
    "        talk_row['month'] = month\n",
    "        talk_row['year'] = year\n",
    "\n",
    "        all_talks.append(talk_row)\n",
    "\n",
    "    print (f'Page {page_number} done.')\n",
    "\n",
    "    # TED's servers have a 'Retry-After': '5' value, so let's wait 6 seconds in between requests to be on the safe side.\n",
    "    # Wait 6 sec before next request\n",
    "    time.sleep(6)\n",
    "\n",
    "        "
   ]
  },
  {
   "cell_type": "code",
   "execution_count": 15,
   "metadata": {},
   "outputs": [
    {
     "data": {
      "text/plain": [
       "b'\\n<?xml version=\"1.0\" encoding=\"utf-8\"?>\\n<!DOCTYPE html PUBLIC \"-//W3C//DTD XHTML 1.0 Strict//EN\"\\n \"http://www.w3.org/TR/xhtml1/DTD/xhtml1-strict.dtd\">\\n<html>\\n  <head>\\n    <title>429 Rate Limited too many requests.</title>\\n  </head>\\n  <body>\\n    <h1>Error 429 Rate Limited too many requests.</h1>\\n    <p>Rate Limited too many requests.</p>\\n    <h3>Guru Meditation:</h3>\\n    <p>XID: 2430258188</p>\\n    <hr>\\n    <p>Varnish cache server</p>\\n  </body>\\n</html>\\n'"
      ]
     },
     "execution_count": 15,
     "metadata": {},
     "output_type": "execute_result"
    }
   ],
   "source": [
    "resp.content"
   ]
  },
  {
   "cell_type": "code",
   "execution_count": 19,
   "metadata": {},
   "outputs": [
    {
     "data": {
      "text/plain": [
       "{'Connection': 'keep-alive', 'Content-Length': '455', 'Content-Type': 'text/html; charset=utf-8', 'Retry-After': '5', 'Accept-Ranges': 'bytes', 'Age': '0', 'Strict-Transport-Security': 'max-age=31536001', 'Date': 'Thu, 11 Feb 2021 06:57:36 GMT', 'Via': '1.1 varnish', 'X-Served-By': 'cache-bwi5147-BWI, cache-lax10639-LGB', 'X-Cache': 'MISS, MISS', 'X-Cache-Hits': '0, 0', 'Set-Cookie': '_nu=1613026656; Expires=Tue, 10 Feb 2026 06:57:36 GMT; path=/, _abby=VvuVLzliF7ix6C8; Expires=Tue, 10 Feb 2026 06:57:36 GMT; Path=/; Domain=.ted.com, _abby_hero_form=b; Expires=Thu, 25 Feb 2021 06:57:36 GMT; Path=/'}"
      ]
     },
     "execution_count": 19,
     "metadata": {},
     "output_type": "execute_result"
    }
   ],
   "source": [
    "resp.headers"
   ]
  },
  {
   "cell_type": "code",
   "execution_count": 12,
   "metadata": {},
   "outputs": [
    {
     "data": {
      "text/html": [
       "<div>\n",
       "<style scoped>\n",
       "    .dataframe tbody tr th:only-of-type {\n",
       "        vertical-align: middle;\n",
       "    }\n",
       "\n",
       "    .dataframe tbody tr th {\n",
       "        vertical-align: top;\n",
       "    }\n",
       "\n",
       "    .dataframe thead th {\n",
       "        text-align: right;\n",
       "    }\n",
       "</style>\n",
       "<table border=\"1\" class=\"dataframe\">\n",
       "  <thead>\n",
       "    <tr style=\"text-align: right;\">\n",
       "      <th></th>\n",
       "      <th>title</th>\n",
       "      <th>speaker</th>\n",
       "      <th>url</th>\n",
       "      <th>month</th>\n",
       "      <th>year</th>\n",
       "    </tr>\n",
       "  </thead>\n",
       "  <tbody>\n",
       "    <tr>\n",
       "      <th>0</th>\n",
       "      <td>Community-powered solutions to the climate crisis</td>\n",
       "      <td>Rahwa Ghirmatzion and Zelalem Adefris</td>\n",
       "      <td>/talks/rahwa_ghirmatzion_and_zelalem_adefris_c...</td>\n",
       "      <td>Feb</td>\n",
       "      <td>2021</td>\n",
       "    </tr>\n",
       "    <tr>\n",
       "      <th>1</th>\n",
       "      <td>A simple 2-step plan for saving more money</td>\n",
       "      <td>Wendy De La Rosa</td>\n",
       "      <td>/talks/wendy_de_la_rosa_a_simple_2_step_plan_f...</td>\n",
       "      <td>Feb</td>\n",
       "      <td>2021</td>\n",
       "    </tr>\n",
       "    <tr>\n",
       "      <th>2</th>\n",
       "      <td>What causes dandruff, and how do you get rid o...</td>\n",
       "      <td>Thomas L. Dawson</td>\n",
       "      <td>/talks/thomas_l_dawson_what_causes_dandruff_an...</td>\n",
       "      <td>Feb</td>\n",
       "      <td>2021</td>\n",
       "    </tr>\n",
       "    <tr>\n",
       "      <th>3</th>\n",
       "      <td>The artist who won a Nobel Prize... in medicine</td>\n",
       "      <td>Melanie E. Peffer</td>\n",
       "      <td>/talks/melanie_e_peffer_the_artist_who_won_a_n...</td>\n",
       "      <td>Feb</td>\n",
       "      <td>2021</td>\n",
       "    </tr>\n",
       "    <tr>\n",
       "      <th>4</th>\n",
       "      <td>A concrete idea to reduce carbon emissions</td>\n",
       "      <td>Karen Scrivener</td>\n",
       "      <td>/talks/karen_scrivener_a_concrete_idea_to_redu...</td>\n",
       "      <td>Feb</td>\n",
       "      <td>2021</td>\n",
       "    </tr>\n",
       "    <tr>\n",
       "      <th>...</th>\n",
       "      <td>...</td>\n",
       "      <td>...</td>\n",
       "      <td>...</td>\n",
       "      <td>...</td>\n",
       "      <td>...</td>\n",
       "    </tr>\n",
       "    <tr>\n",
       "      <th>67</th>\n",
       "      <td>Why is pneumonia so dangerous?</td>\n",
       "      <td>Eve Gaus and Vanessa Ruiz</td>\n",
       "      <td>/talks/eve_gaus_and_vanessa_ruiz_why_is_pneumo...</td>\n",
       "      <td>Nov</td>\n",
       "      <td>2020</td>\n",
       "    </tr>\n",
       "    <tr>\n",
       "      <th>68</th>\n",
       "      <td>The city planting a million trees in two years</td>\n",
       "      <td>Yvonne Aki-Sawyerr</td>\n",
       "      <td>/talks/yvonne_aki_sawyerr_the_city_planting_a_...</td>\n",
       "      <td>Nov</td>\n",
       "      <td>2020</td>\n",
       "    </tr>\n",
       "    <tr>\n",
       "      <th>69</th>\n",
       "      <td>How to come out at work, about anything</td>\n",
       "      <td>Micah Eames</td>\n",
       "      <td>/talks/micah_eames_how_to_come_out_at_work_abo...</td>\n",
       "      <td>Nov</td>\n",
       "      <td>2020</td>\n",
       "    </tr>\n",
       "    <tr>\n",
       "      <th>70</th>\n",
       "      <td>How reverse mentorship can help create better ...</td>\n",
       "      <td>Patrice Gordon</td>\n",
       "      <td>/talks/patrice_gordon_how_reverse_mentorship_c...</td>\n",
       "      <td>Nov</td>\n",
       "      <td>2020</td>\n",
       "    </tr>\n",
       "    <tr>\n",
       "      <th>71</th>\n",
       "      <td>How COVID-19 human challenge trials work — and...</td>\n",
       "      <td>Sophie Rose</td>\n",
       "      <td>/talks/sophie_rose_how_covid_19_human_challeng...</td>\n",
       "      <td>Nov</td>\n",
       "      <td>2020</td>\n",
       "    </tr>\n",
       "  </tbody>\n",
       "</table>\n",
       "<p>72 rows × 5 columns</p>\n",
       "</div>"
      ],
      "text/plain": [
       "                                                title  \\\n",
       "0   Community-powered solutions to the climate crisis   \n",
       "1          A simple 2-step plan for saving more money   \n",
       "2   What causes dandruff, and how do you get rid o...   \n",
       "3     The artist who won a Nobel Prize... in medicine   \n",
       "4          A concrete idea to reduce carbon emissions   \n",
       "..                                                ...   \n",
       "67                     Why is pneumonia so dangerous?   \n",
       "68     The city planting a million trees in two years   \n",
       "69            How to come out at work, about anything   \n",
       "70  How reverse mentorship can help create better ...   \n",
       "71  How COVID-19 human challenge trials work — and...   \n",
       "\n",
       "                                  speaker  \\\n",
       "0   Rahwa Ghirmatzion and Zelalem Adefris   \n",
       "1                        Wendy De La Rosa   \n",
       "2                        Thomas L. Dawson   \n",
       "3                       Melanie E. Peffer   \n",
       "4                         Karen Scrivener   \n",
       "..                                    ...   \n",
       "67              Eve Gaus and Vanessa Ruiz   \n",
       "68                     Yvonne Aki-Sawyerr   \n",
       "69                            Micah Eames   \n",
       "70                         Patrice Gordon   \n",
       "71                            Sophie Rose   \n",
       "\n",
       "                                                  url month  year  \n",
       "0   /talks/rahwa_ghirmatzion_and_zelalem_adefris_c...   Feb  2021  \n",
       "1   /talks/wendy_de_la_rosa_a_simple_2_step_plan_f...   Feb  2021  \n",
       "2   /talks/thomas_l_dawson_what_causes_dandruff_an...   Feb  2021  \n",
       "3   /talks/melanie_e_peffer_the_artist_who_won_a_n...   Feb  2021  \n",
       "4   /talks/karen_scrivener_a_concrete_idea_to_redu...   Feb  2021  \n",
       "..                                                ...   ...   ...  \n",
       "67  /talks/eve_gaus_and_vanessa_ruiz_why_is_pneumo...   Nov  2020  \n",
       "68  /talks/yvonne_aki_sawyerr_the_city_planting_a_...   Nov  2020  \n",
       "69  /talks/micah_eames_how_to_come_out_at_work_abo...   Nov  2020  \n",
       "70  /talks/patrice_gordon_how_reverse_mentorship_c...   Nov  2020  \n",
       "71  /talks/sophie_rose_how_covid_19_human_challeng...   Nov  2020  \n",
       "\n",
       "[72 rows x 5 columns]"
      ]
     },
     "execution_count": 12,
     "metadata": {},
     "output_type": "execute_result"
    }
   ],
   "source": [
    "talks_df = pd.DataFrame(all_talks)\n",
    "talks_df.head()"
   ]
  },
  {
   "cell_type": "code",
   "execution_count": 20,
   "metadata": {},
   "outputs": [],
   "source": [
    "# Save to csv - this path exists on my Google Colab\n",
    "#talks_df.to_csv('./ted/talk_list.csv', index=False)"
   ]
  },
  {
   "cell_type": "code",
   "execution_count": null,
   "metadata": {},
   "outputs": [],
   "source": []
  }
 ],
 "metadata": {
  "kernelspec": {
   "display_name": "Python 3",
   "language": "python",
   "name": "python3"
  },
  "language_info": {
   "codemirror_mode": {
    "name": "ipython",
    "version": 3
   },
   "file_extension": ".py",
   "mimetype": "text/x-python",
   "name": "python",
   "nbconvert_exporter": "python",
   "pygments_lexer": "ipython3",
   "version": "3.8.3"
  }
 },
 "nbformat": 4,
 "nbformat_minor": 4
}
